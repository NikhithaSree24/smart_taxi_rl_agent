{
 "cells": [
  {
   "cell_type": "code",
   "execution_count": 3,
   "id": "dce837ea-1c35-49ed-84cf-9bf9f16c96c9",
   "metadata": {},
   "outputs": [
    {
     "name": "stdout",
     "output_type": "stream",
     "text": [
      "Successfully initialized with render_mode=human\n",
      "\n",
      "==================================================\n",
      "ENVIRONMENT INFORMATION\n",
      "==================================================\n",
      "\n",
      "State Space Size: 500\n",
      "Action Space Size: 6\n",
      "Action Mapping: 0=South, 1=North, 2=East, 3=West, 4=Pickup, 5=Dropoff\n",
      "==================================================\n",
      "\n",
      "\n",
      "Training with Enhanced Double Q-learning...\n",
      "Successfully initialized with render_mode=None\n"
     ]
    },
    {
     "name": "stderr",
     "output_type": "stream",
     "text": [
      "Training:   2%|█▏                                                                  | 497/30000 [00:53<11:01, 44.60it/s]"
     ]
    },
    {
     "name": "stdout",
     "output_type": "stream",
     "text": [
      "Successfully initialized with render_mode=None\n"
     ]
    },
    {
     "name": "stderr",
     "output_type": "stream",
     "text": [
      "Training:   2%|█▏                                                                  | 503/30000 [00:53<20:30, 23.96it/s]"
     ]
    },
    {
     "name": "stdout",
     "output_type": "stream",
     "text": [
      "Episode 500, LR: 0.1990, Epsilon: 0.7788, Avg Reward: -231.69, Value Accuracy: 0.00%\n"
     ]
    },
    {
     "name": "stderr",
     "output_type": "stream",
     "text": [
      "Training:   3%|██▏                                                                | 1005/30000 [01:00<05:51, 82.40it/s]"
     ]
    },
    {
     "name": "stdout",
     "output_type": "stream",
     "text": [
      "Successfully initialized with render_mode=None\n",
      "Episode 1000, LR: 0.1980, Epsilon: 0.6065, Avg Reward: 0.88, Value Accuracy: 88.01%\n"
     ]
    },
    {
     "name": "stderr",
     "output_type": "stream",
     "text": [
      "Training:   5%|███▎                                                               | 1506/30000 [01:04<05:02, 94.15it/s]"
     ]
    },
    {
     "name": "stdout",
     "output_type": "stream",
     "text": [
      "Successfully initialized with render_mode=None\n",
      "Episode 1500, LR: 0.1970, Epsilon: 0.4723, Avg Reward: 7.65, Value Accuracy: 87.09%\n"
     ]
    },
    {
     "name": "stderr",
     "output_type": "stream",
     "text": [
      "Training:   7%|████▍                                                             | 2020/30000 [01:09<04:12, 110.86it/s]"
     ]
    },
    {
     "name": "stdout",
     "output_type": "stream",
     "text": [
      "Successfully initialized with render_mode=None\n",
      "Episode 2000, LR: 0.1960, Epsilon: 0.3678, Avg Reward: 7.63, Value Accuracy: 87.64%\n"
     ]
    },
    {
     "name": "stderr",
     "output_type": "stream",
     "text": [
      "Training:   8%|█████▌                                                             | 2511/30000 [01:13<04:47, 95.71it/s]"
     ]
    },
    {
     "name": "stdout",
     "output_type": "stream",
     "text": [
      "Successfully initialized with render_mode=None\n",
      "Episode 2500, LR: 0.1950, Epsilon: 0.2864, Avg Reward: 7.64, Value Accuracy: 87.39%\n"
     ]
    },
    {
     "name": "stderr",
     "output_type": "stream",
     "text": [
      "Training:  10%|██████▋                                                            | 3012/30000 [01:17<04:45, 94.53it/s]"
     ]
    },
    {
     "name": "stdout",
     "output_type": "stream",
     "text": [
      "Successfully initialized with render_mode=None\n",
      "Episode 3000, LR: 0.1941, Epsilon: 0.2230, Avg Reward: 7.46, Value Accuracy: 87.53%\n"
     ]
    },
    {
     "name": "stderr",
     "output_type": "stream",
     "text": [
      "Training:  12%|███████▊                                                           | 3510/30000 [01:21<04:48, 91.80it/s]"
     ]
    },
    {
     "name": "stdout",
     "output_type": "stream",
     "text": [
      "Successfully initialized with render_mode=None\n",
      "Episode 3500, LR: 0.1931, Epsilon: 0.1737, Avg Reward: 7.66, Value Accuracy: 87.52%\n"
     ]
    },
    {
     "name": "stderr",
     "output_type": "stream",
     "text": [
      "Training:  13%|████████▊                                                         | 4014/30000 [01:26<04:15, 101.53it/s]"
     ]
    },
    {
     "name": "stdout",
     "output_type": "stream",
     "text": [
      "Successfully initialized with render_mode=None\n",
      "Episode 4000, LR: 0.1921, Epsilon: 0.1353, Avg Reward: 7.65, Value Accuracy: 87.04%\n"
     ]
    },
    {
     "name": "stderr",
     "output_type": "stream",
     "text": [
      "Training:  15%|█████████▉                                                        | 4509/30000 [01:30<03:54, 108.56it/s]"
     ]
    },
    {
     "name": "stdout",
     "output_type": "stream",
     "text": [
      "Successfully initialized with render_mode=None\n",
      "Episode 4500, LR: 0.1912, Epsilon: 0.1053, Avg Reward: 7.77, Value Accuracy: 88.24%\n"
     ]
    },
    {
     "name": "stderr",
     "output_type": "stream",
     "text": [
      "Training:  17%|███████████▏                                                       | 5011/30000 [01:34<04:36, 90.31it/s]"
     ]
    },
    {
     "name": "stdout",
     "output_type": "stream",
     "text": [
      "Successfully initialized with render_mode=None\n",
      "Episode 5000, LR: 0.1902, Epsilon: 0.0820, Avg Reward: 7.55, Value Accuracy: 86.71%\n"
     ]
    },
    {
     "name": "stderr",
     "output_type": "stream",
     "text": [
      "Training:  18%|████████████▎                                                      | 5513/30000 [01:39<04:10, 97.61it/s]"
     ]
    },
    {
     "name": "stdout",
     "output_type": "stream",
     "text": [
      "Successfully initialized with render_mode=None\n",
      "Episode 5500, LR: 0.1892, Epsilon: 0.0639, Avg Reward: 7.48, Value Accuracy: 87.59%\n"
     ]
    },
    {
     "name": "stderr",
     "output_type": "stream",
     "text": [
      "Training:  20%|█████████████▍                                                     | 6010/30000 [01:43<04:06, 97.45it/s]"
     ]
    },
    {
     "name": "stdout",
     "output_type": "stream",
     "text": [
      "Successfully initialized with render_mode=None\n",
      "Episode 6000, LR: 0.1883, Epsilon: 0.0497, Avg Reward: 7.51, Value Accuracy: 87.58%\n"
     ]
    },
    {
     "name": "stderr",
     "output_type": "stream",
     "text": [
      "Training:  22%|██████████████▎                                                   | 6511/30000 [01:47<03:23, 115.19it/s]"
     ]
    },
    {
     "name": "stdout",
     "output_type": "stream",
     "text": [
      "Successfully initialized with render_mode=None\n",
      "Episode 6500, LR: 0.1874, Epsilon: 0.0387, Avg Reward: 7.76, Value Accuracy: 87.61%\n"
     ]
    },
    {
     "name": "stderr",
     "output_type": "stream",
     "text": [
      "Training:  23%|███████████████▍                                                  | 7011/30000 [01:51<03:47, 101.05it/s]"
     ]
    },
    {
     "name": "stdout",
     "output_type": "stream",
     "text": [
      "Successfully initialized with render_mode=None\n",
      "Episode 7000, LR: 0.1864, Epsilon: 0.0302, Avg Reward: 7.59, Value Accuracy: 86.99%\n"
     ]
    },
    {
     "name": "stderr",
     "output_type": "stream",
     "text": [
      "Training:  25%|████████████████▊                                                  | 7511/30000 [01:56<03:56, 94.90it/s]"
     ]
    },
    {
     "name": "stdout",
     "output_type": "stream",
     "text": [
      "Successfully initialized with render_mode=None\n",
      "Episode 7500, LR: 0.1855, Epsilon: 0.0235, Avg Reward: 7.59, Value Accuracy: 87.66%\n"
     ]
    },
    {
     "name": "stderr",
     "output_type": "stream",
     "text": [
      "Training:  27%|█████████████████▉                                                 | 8007/30000 [02:00<03:50, 95.61it/s]"
     ]
    },
    {
     "name": "stdout",
     "output_type": "stream",
     "text": [
      "Successfully initialized with render_mode=None\n",
      "Episode 8000, LR: 0.1845, Epsilon: 0.0183, Avg Reward: 7.63, Value Accuracy: 87.36%\n"
     ]
    },
    {
     "name": "stderr",
     "output_type": "stream",
     "text": [
      "Training:  28%|██████████████████▉                                                | 8507/30000 [02:05<04:03, 88.14it/s]"
     ]
    },
    {
     "name": "stdout",
     "output_type": "stream",
     "text": [
      "Successfully initialized with render_mode=None\n",
      "Episode 8500, LR: 0.1836, Epsilon: 0.0142, Avg Reward: 7.40, Value Accuracy: 87.65%\n"
     ]
    },
    {
     "name": "stderr",
     "output_type": "stream",
     "text": [
      "Training:  30%|███████████████████▊                                              | 9014/30000 [02:09<03:20, 104.77it/s]"
     ]
    },
    {
     "name": "stdout",
     "output_type": "stream",
     "text": [
      "Successfully initialized with render_mode=None\n",
      "Episode 9000, LR: 0.1827, Epsilon: 0.0111, Avg Reward: 7.63, Value Accuracy: 87.67%\n"
     ]
    },
    {
     "name": "stderr",
     "output_type": "stream",
     "text": [
      "Training:  32%|█████████████████████▏                                             | 9513/30000 [02:13<03:36, 94.72it/s]"
     ]
    },
    {
     "name": "stdout",
     "output_type": "stream",
     "text": [
      "Successfully initialized with render_mode=None\n",
      "Episode 9500, LR: 0.1818, Epsilon: 0.0100, Avg Reward: 7.62, Value Accuracy: 87.55%\n"
     ]
    },
    {
     "name": "stderr",
     "output_type": "stream",
     "text": [
      "Training:  33%|██████████████████████                                            | 10012/30000 [02:18<03:29, 95.37it/s]"
     ]
    },
    {
     "name": "stdout",
     "output_type": "stream",
     "text": [
      "Successfully initialized with render_mode=None\n",
      "Episode 10000, LR: 0.1809, Epsilon: 0.0100, Avg Reward: 7.66, Value Accuracy: 87.93%\n"
     ]
    },
    {
     "name": "stderr",
     "output_type": "stream",
     "text": [
      "Training:  35%|███████████████████████                                           | 10504/30000 [02:22<03:18, 98.30it/s]"
     ]
    },
    {
     "name": "stdout",
     "output_type": "stream",
     "text": [
      "Successfully initialized with render_mode=None\n",
      "Episode 10500, LR: 0.1800, Epsilon: 0.0100, Avg Reward: 7.62, Value Accuracy: 88.10%\n"
     ]
    },
    {
     "name": "stderr",
     "output_type": "stream",
     "text": [
      "Training:  37%|███████████████████████▊                                         | 11014/30000 [02:26<02:43, 115.89it/s]"
     ]
    },
    {
     "name": "stdout",
     "output_type": "stream",
     "text": [
      "Successfully initialized with render_mode=None\n",
      "Episode 11000, LR: 0.1791, Epsilon: 0.0100, Avg Reward: 7.36, Value Accuracy: 87.32%\n"
     ]
    },
    {
     "name": "stderr",
     "output_type": "stream",
     "text": [
      "Training:  38%|█████████████████████████▎                                        | 11508/30000 [02:31<03:10, 97.27it/s]"
     ]
    },
    {
     "name": "stdout",
     "output_type": "stream",
     "text": [
      "Successfully initialized with render_mode=None\n",
      "Episode 11500, LR: 0.1782, Epsilon: 0.0100, Avg Reward: 7.57, Value Accuracy: 87.87%\n"
     ]
    },
    {
     "name": "stderr",
     "output_type": "stream",
     "text": [
      "Training:  40%|██████████████████████████▍                                       | 12011/30000 [02:35<03:08, 95.63it/s]"
     ]
    },
    {
     "name": "stdout",
     "output_type": "stream",
     "text": [
      "Successfully initialized with render_mode=None\n",
      "Episode 12000, LR: 0.1773, Epsilon: 0.0100, Avg Reward: 7.42, Value Accuracy: 87.66%\n"
     ]
    },
    {
     "name": "stderr",
     "output_type": "stream",
     "text": [
      "Training:  42%|███████████████████████████▌                                      | 12513/30000 [02:40<03:00, 96.62it/s]"
     ]
    },
    {
     "name": "stdout",
     "output_type": "stream",
     "text": [
      "Successfully initialized with render_mode=None\n",
      "Episode 12500, LR: 0.1764, Epsilon: 0.0100, Avg Reward: 7.47, Value Accuracy: 88.01%\n"
     ]
    },
    {
     "name": "stderr",
     "output_type": "stream",
     "text": [
      "Training:  43%|████████████████████████████▌                                     | 13011/30000 [02:44<02:54, 97.47it/s]"
     ]
    },
    {
     "name": "stdout",
     "output_type": "stream",
     "text": [
      "Successfully initialized with render_mode=None\n",
      "Episode 13000, LR: 0.1755, Epsilon: 0.0100, Avg Reward: 7.63, Value Accuracy: 87.71%\n"
     ]
    },
    {
     "name": "stderr",
     "output_type": "stream",
     "text": [
      "Training:  45%|█████████████████████████████▋                                    | 13505/30000 [02:48<02:59, 91.72it/s]"
     ]
    },
    {
     "name": "stdout",
     "output_type": "stream",
     "text": [
      "Successfully initialized with render_mode=None\n",
      "Episode 13500, LR: 0.1746, Epsilon: 0.0100, Avg Reward: 7.74, Value Accuracy: 87.75%\n"
     ]
    },
    {
     "name": "stderr",
     "output_type": "stream",
     "text": [
      "Training:  47%|██████████████████████████████▊                                   | 14008/30000 [02:53<02:56, 90.72it/s]"
     ]
    },
    {
     "name": "stdout",
     "output_type": "stream",
     "text": [
      "Successfully initialized with render_mode=None\n",
      "Episode 14000, LR: 0.1737, Epsilon: 0.0100, Avg Reward: 7.46, Value Accuracy: 87.85%\n"
     ]
    },
    {
     "name": "stderr",
     "output_type": "stream",
     "text": [
      "Training:  48%|███████████████████████████████▉                                  | 14506/30000 [02:57<02:53, 89.06it/s]"
     ]
    },
    {
     "name": "stdout",
     "output_type": "stream",
     "text": [
      "Successfully initialized with render_mode=None\n",
      "Episode 14500, LR: 0.1729, Epsilon: 0.0100, Avg Reward: 7.49, Value Accuracy: 87.23%\n"
     ]
    },
    {
     "name": "stderr",
     "output_type": "stream",
     "text": [
      "Training:  50%|█████████████████████████████████                                 | 15001/30000 [03:02<02:46, 90.16it/s]"
     ]
    },
    {
     "name": "stdout",
     "output_type": "stream",
     "text": [
      "Successfully initialized with render_mode=None\n",
      "Episode 15000, LR: 0.1720, Epsilon: 0.0100, Avg Reward: 7.59, Value Accuracy: 87.85%\n"
     ]
    },
    {
     "name": "stderr",
     "output_type": "stream",
     "text": [
      "Training:  52%|██████████████████████████████████▏                               | 15512/30000 [03:06<02:37, 92.26it/s]"
     ]
    },
    {
     "name": "stdout",
     "output_type": "stream",
     "text": [
      "Successfully initialized with render_mode=None\n",
      "Episode 15500, LR: 0.1711, Epsilon: 0.0100, Avg Reward: 7.54, Value Accuracy: 87.70%\n"
     ]
    },
    {
     "name": "stderr",
     "output_type": "stream",
     "text": [
      "Training:  53%|███████████████████████████████████▏                              | 16004/30000 [03:11<02:36, 89.26it/s]"
     ]
    },
    {
     "name": "stdout",
     "output_type": "stream",
     "text": [
      "Successfully initialized with render_mode=None\n",
      "Episode 16000, LR: 0.1703, Epsilon: 0.0100, Avg Reward: 7.79, Value Accuracy: 87.71%\n"
     ]
    },
    {
     "name": "stderr",
     "output_type": "stream",
     "text": [
      "Training:  55%|████████████████████████████████████▎                             | 16513/30000 [03:16<02:25, 92.96it/s]"
     ]
    },
    {
     "name": "stdout",
     "output_type": "stream",
     "text": [
      "Successfully initialized with render_mode=None\n",
      "Episode 16500, LR: 0.1694, Epsilon: 0.0100, Avg Reward: 7.63, Value Accuracy: 87.80%\n"
     ]
    },
    {
     "name": "stderr",
     "output_type": "stream",
     "text": [
      "Training:  57%|█████████████████████████████████████▍                            | 17015/30000 [03:20<02:17, 94.50it/s]"
     ]
    },
    {
     "name": "stdout",
     "output_type": "stream",
     "text": [
      "Successfully initialized with render_mode=None\n",
      "Episode 17000, LR: 0.1686, Epsilon: 0.0100, Avg Reward: 7.54, Value Accuracy: 87.93%\n"
     ]
    },
    {
     "name": "stderr",
     "output_type": "stream",
     "text": [
      "Training:  58%|█████████████████████████████████████▉                           | 17508/30000 [03:24<01:49, 114.44it/s]"
     ]
    },
    {
     "name": "stdout",
     "output_type": "stream",
     "text": [
      "Successfully initialized with render_mode=None\n",
      "Episode 17500, LR: 0.1677, Epsilon: 0.0100, Avg Reward: 7.71, Value Accuracy: 88.17%\n"
     ]
    },
    {
     "name": "stderr",
     "output_type": "stream",
     "text": [
      "Training:  60%|███████████████████████████████████████                          | 18012/30000 [03:29<01:51, 107.66it/s]"
     ]
    },
    {
     "name": "stdout",
     "output_type": "stream",
     "text": [
      "Successfully initialized with render_mode=None\n",
      "Episode 18000, LR: 0.1669, Epsilon: 0.0100, Avg Reward: 7.52, Value Accuracy: 87.98%\n"
     ]
    },
    {
     "name": "stderr",
     "output_type": "stream",
     "text": [
      "Training:  62%|████████████████████████████████████████                         | 18515/30000 [03:33<01:36, 118.56it/s]"
     ]
    },
    {
     "name": "stdout",
     "output_type": "stream",
     "text": [
      "Successfully initialized with render_mode=None\n",
      "Episode 18500, LR: 0.1661, Epsilon: 0.0100, Avg Reward: 7.56, Value Accuracy: 87.53%\n"
     ]
    },
    {
     "name": "stderr",
     "output_type": "stream",
     "text": [
      "Training:  63%|█████████████████████████████████████████▏                       | 19003/30000 [03:37<01:43, 106.32it/s]"
     ]
    },
    {
     "name": "stdout",
     "output_type": "stream",
     "text": [
      "Successfully initialized with render_mode=None\n",
      "Episode 19000, LR: 0.1652, Epsilon: 0.0100, Avg Reward: 7.67, Value Accuracy: 87.40%\n"
     ]
    },
    {
     "name": "stderr",
     "output_type": "stream",
     "text": [
      "Training:  65%|██████████████████████████████████████████▉                       | 19513/30000 [03:41<01:47, 97.93it/s]"
     ]
    },
    {
     "name": "stdout",
     "output_type": "stream",
     "text": [
      "Successfully initialized with render_mode=None\n",
      "Episode 19500, LR: 0.1644, Epsilon: 0.0100, Avg Reward: 7.53, Value Accuracy: 87.68%\n"
     ]
    },
    {
     "name": "stderr",
     "output_type": "stream",
     "text": [
      "Training:  67%|███████████████████████████████████████████▎                     | 20012/30000 [03:45<01:36, 103.80it/s]"
     ]
    },
    {
     "name": "stdout",
     "output_type": "stream",
     "text": [
      "Successfully initialized with render_mode=None\n",
      "Episode 20000, LR: 0.1636, Epsilon: 0.0100, Avg Reward: 7.38, Value Accuracy: 87.40%\n"
     ]
    },
    {
     "name": "stderr",
     "output_type": "stream",
     "text": [
      "Training:  68%|█████████████████████████████████████████████                     | 20505/30000 [03:49<01:38, 96.68it/s]"
     ]
    },
    {
     "name": "stdout",
     "output_type": "stream",
     "text": [
      "Successfully initialized with render_mode=None\n",
      "Episode 20500, LR: 0.1628, Epsilon: 0.0100, Avg Reward: 7.79, Value Accuracy: 87.28%\n"
     ]
    },
    {
     "name": "stderr",
     "output_type": "stream",
     "text": [
      "Training:  70%|██████████████████████████████████████████████▏                   | 21012/30000 [03:53<01:36, 93.38it/s]"
     ]
    },
    {
     "name": "stdout",
     "output_type": "stream",
     "text": [
      "Successfully initialized with render_mode=None\n",
      "Episode 21000, LR: 0.1619, Epsilon: 0.0100, Avg Reward: 7.80, Value Accuracy: 87.83%\n"
     ]
    },
    {
     "name": "stderr",
     "output_type": "stream",
     "text": [
      "Training:  72%|███████████████████████████████████████████████▎                  | 21504/30000 [03:58<01:39, 85.29it/s]"
     ]
    },
    {
     "name": "stdout",
     "output_type": "stream",
     "text": [
      "Successfully initialized with render_mode=None\n",
      "Episode 21500, LR: 0.1611, Epsilon: 0.0100, Avg Reward: 7.63, Value Accuracy: 88.03%\n"
     ]
    },
    {
     "name": "stderr",
     "output_type": "stream",
     "text": [
      "Training:  73%|████████████████████████████████████████████████▍                 | 22007/30000 [04:02<01:36, 83.08it/s]"
     ]
    },
    {
     "name": "stdout",
     "output_type": "stream",
     "text": [
      "Successfully initialized with render_mode=None\n",
      "Episode 22000, LR: 0.1603, Epsilon: 0.0100, Avg Reward: 7.38, Value Accuracy: 87.36%\n"
     ]
    },
    {
     "name": "stderr",
     "output_type": "stream",
     "text": [
      "Training:  75%|████████████████████████████████████████████████▊                | 22514/30000 [04:07<01:11, 104.04it/s]"
     ]
    },
    {
     "name": "stdout",
     "output_type": "stream",
     "text": [
      "Successfully initialized with render_mode=None\n",
      "Episode 22500, LR: 0.1595, Epsilon: 0.0100, Avg Reward: 7.50, Value Accuracy: 87.39%\n"
     ]
    },
    {
     "name": "stderr",
     "output_type": "stream",
     "text": [
      "Training:  77%|██████████████████████████████████████████████████▌               | 23007/30000 [04:11<01:17, 90.73it/s]"
     ]
    },
    {
     "name": "stdout",
     "output_type": "stream",
     "text": [
      "Successfully initialized with render_mode=None\n",
      "Episode 23000, LR: 0.1587, Epsilon: 0.0100, Avg Reward: 7.74, Value Accuracy: 87.65%\n"
     ]
    },
    {
     "name": "stderr",
     "output_type": "stream",
     "text": [
      "Training:  78%|██████████████████████████████████████████████████▉              | 23520/30000 [04:15<00:54, 118.79it/s]"
     ]
    },
    {
     "name": "stdout",
     "output_type": "stream",
     "text": [
      "Successfully initialized with render_mode=None\n",
      "Episode 23500, LR: 0.1579, Epsilon: 0.0100, Avg Reward: 7.86, Value Accuracy: 87.72%\n"
     ]
    },
    {
     "name": "stderr",
     "output_type": "stream",
     "text": [
      "Training:  80%|████████████████████████████████████████████████████             | 24016/30000 [04:19<00:55, 107.34it/s]"
     ]
    },
    {
     "name": "stdout",
     "output_type": "stream",
     "text": [
      "Successfully initialized with render_mode=None\n",
      "Episode 24000, LR: 0.1571, Epsilon: 0.0100, Avg Reward: 7.59, Value Accuracy: 87.61%\n"
     ]
    },
    {
     "name": "stderr",
     "output_type": "stream",
     "text": [
      "Training:  82%|█████████████████████████████████████████████████████▉            | 24501/30000 [04:23<00:57, 95.60it/s]"
     ]
    },
    {
     "name": "stdout",
     "output_type": "stream",
     "text": [
      "Successfully initialized with render_mode=None\n",
      "Episode 24500, LR: 0.1563, Epsilon: 0.0100, Avg Reward: 7.55, Value Accuracy: 87.48%\n"
     ]
    },
    {
     "name": "stderr",
     "output_type": "stream",
     "text": [
      "Training:  83%|███████████████████████████████████████████████████████           | 25006/30000 [04:28<01:00, 82.25it/s]"
     ]
    },
    {
     "name": "stdout",
     "output_type": "stream",
     "text": [
      "Successfully initialized with render_mode=None\n",
      "Episode 25000, LR: 0.1556, Epsilon: 0.0100, Avg Reward: 7.64, Value Accuracy: 87.53%\n"
     ]
    },
    {
     "name": "stderr",
     "output_type": "stream",
     "text": [
      "Training:  85%|████████████████████████████████████████████████████████          | 25511/30000 [04:33<00:50, 89.36it/s]"
     ]
    },
    {
     "name": "stdout",
     "output_type": "stream",
     "text": [
      "Successfully initialized with render_mode=None\n",
      "Episode 25500, LR: 0.1548, Epsilon: 0.0100, Avg Reward: 7.48, Value Accuracy: 87.63%\n"
     ]
    },
    {
     "name": "stderr",
     "output_type": "stream",
     "text": [
      "Training:  87%|█████████████████████████████████████████████████████████▏        | 26011/30000 [04:37<00:43, 91.11it/s]"
     ]
    },
    {
     "name": "stdout",
     "output_type": "stream",
     "text": [
      "Successfully initialized with render_mode=None\n",
      "Episode 26000, LR: 0.1540, Epsilon: 0.0100, Avg Reward: 7.57, Value Accuracy: 87.58%\n"
     ]
    },
    {
     "name": "stderr",
     "output_type": "stream",
     "text": [
      "Training:  88%|█████████████████████████████████████████████████████████▍       | 26508/30000 [04:42<00:34, 100.90it/s]"
     ]
    },
    {
     "name": "stdout",
     "output_type": "stream",
     "text": [
      "Successfully initialized with render_mode=None\n",
      "Episode 26500, LR: 0.1532, Epsilon: 0.0100, Avg Reward: 7.34, Value Accuracy: 86.98%\n"
     ]
    },
    {
     "name": "stderr",
     "output_type": "stream",
     "text": [
      "Training:  90%|███████████████████████████████████████████████████████████▍      | 27003/30000 [04:46<00:33, 88.92it/s]"
     ]
    },
    {
     "name": "stdout",
     "output_type": "stream",
     "text": [
      "Successfully initialized with render_mode=None\n",
      "Episode 27000, LR: 0.1525, Epsilon: 0.0100, Avg Reward: 7.50, Value Accuracy: 87.39%\n"
     ]
    },
    {
     "name": "stderr",
     "output_type": "stream",
     "text": [
      "Training:  92%|████████████████████████████████████████████████████████████▌     | 27507/30000 [04:50<00:28, 87.54it/s]"
     ]
    },
    {
     "name": "stdout",
     "output_type": "stream",
     "text": [
      "Successfully initialized with render_mode=None\n",
      "Episode 27500, LR: 0.1517, Epsilon: 0.0100, Avg Reward: 7.44, Value Accuracy: 87.70%\n"
     ]
    },
    {
     "name": "stderr",
     "output_type": "stream",
     "text": [
      "Training:  93%|████████████████████████████████████████████████████████████▋    | 28013/30000 [04:55<00:18, 106.46it/s]"
     ]
    },
    {
     "name": "stdout",
     "output_type": "stream",
     "text": [
      "Successfully initialized with render_mode=None\n",
      "Episode 28000, LR: 0.1509, Epsilon: 0.0100, Avg Reward: 7.46, Value Accuracy: 87.69%\n"
     ]
    },
    {
     "name": "stderr",
     "output_type": "stream",
     "text": [
      "Training:  95%|██████████████████████████████████████████████████████████████▋   | 28502/30000 [04:59<00:17, 84.23it/s]"
     ]
    },
    {
     "name": "stdout",
     "output_type": "stream",
     "text": [
      "Successfully initialized with render_mode=None\n",
      "Episode 28500, LR: 0.1502, Epsilon: 0.0100, Avg Reward: 7.63, Value Accuracy: 87.21%\n"
     ]
    },
    {
     "name": "stderr",
     "output_type": "stream",
     "text": [
      "Training:  97%|███████████████████████████████████████████████████████████████▊  | 29005/30000 [05:04<00:10, 95.78it/s]"
     ]
    },
    {
     "name": "stdout",
     "output_type": "stream",
     "text": [
      "Successfully initialized with render_mode=None\n",
      "Episode 29000, LR: 0.1494, Epsilon: 0.0100, Avg Reward: 7.60, Value Accuracy: 88.23%\n"
     ]
    },
    {
     "name": "stderr",
     "output_type": "stream",
     "text": [
      "Training:  98%|████████████████████████████████████████████████████████████████▉ | 29514/30000 [05:08<00:04, 98.89it/s]"
     ]
    },
    {
     "name": "stdout",
     "output_type": "stream",
     "text": [
      "Successfully initialized with render_mode=None\n",
      "Episode 29500, LR: 0.1487, Epsilon: 0.0100, Avg Reward: 7.33, Value Accuracy: 87.68%\n"
     ]
    },
    {
     "name": "stderr",
     "output_type": "stream",
     "text": [
      "Training: 100%|██████████████████████████████████████████████████████████████████| 30000/30000 [05:12<00:00, 95.92it/s]\n"
     ]
    },
    {
     "name": "stdout",
     "output_type": "stream",
     "text": [
      "Successfully initialized with render_mode=None\n",
      "Episode 30000, LR: 0.1479, Epsilon: 0.0100, Avg Reward: 7.37, Value Accuracy: 88.05%\n",
      "\n",
      "Best value accuracy achieved: 88.24%\n",
      "\n",
      "Visualizing trained agent...\n",
      "Successfully initialized with render_mode=human\n",
      "\n",
      "=== Episode 1 ===\n",
      "Initial State:\n",
      "Taxi at (0,1), Passenger at R, Dest: G\n",
      "\n",
      "Step 0: Action=West\n",
      "New State: Taxi at (0,0), Passenger at R, Dest: G\n",
      "Reward: -1, Total Reward: 0\n",
      "\n",
      "Step 1: Action=Pickup\n",
      "New State: Taxi at (0,0), Passenger at In Taxi, Dest: G\n",
      "Reward: -1, Total Reward: -1\n",
      "\n",
      "Step 2: Action=South\n",
      "New State: Taxi at (1,0), Passenger at In Taxi, Dest: G\n",
      "Reward: -1, Total Reward: -2\n",
      "\n",
      "Step 3: Action=East\n",
      "New State: Taxi at (1,1), Passenger at In Taxi, Dest: G\n",
      "Reward: -1, Total Reward: -3\n",
      "\n",
      "Step 4: Action=South\n",
      "New State: Taxi at (2,1), Passenger at In Taxi, Dest: G\n",
      "Reward: -1, Total Reward: -4\n",
      "\n",
      "Step 5: Action=East\n",
      "New State: Taxi at (2,2), Passenger at In Taxi, Dest: G\n",
      "Reward: -1, Total Reward: -5\n",
      "\n",
      "Step 6: Action=North\n",
      "New State: Taxi at (1,2), Passenger at In Taxi, Dest: G\n",
      "Reward: -1, Total Reward: -6\n",
      "\n",
      "Step 7: Action=East\n",
      "New State: Taxi at (1,3), Passenger at In Taxi, Dest: G\n",
      "Reward: -1, Total Reward: -7\n",
      "\n",
      "Step 8: Action=North\n",
      "New State: Taxi at (0,3), Passenger at In Taxi, Dest: G\n",
      "Reward: -1, Total Reward: -8\n",
      "\n",
      "Step 9: Action=East\n",
      "New State: Taxi at (0,4), Passenger at In Taxi, Dest: G\n",
      "Reward: -1, Total Reward: -9\n",
      "\n",
      "Step 10: Action=Dropoff\n",
      "New State: Taxi at (0,4), Passenger at G, Dest: G\n",
      "Reward: 20, Total Reward: -10\n",
      "\n",
      "Episode finished after 11 steps, Total reward: 10\n",
      "SUCCESS: Passenger delivered!\n",
      "\n",
      "=== Episode 2 ===\n",
      "Initial State:\n",
      "Taxi at (2,3), Passenger at Y, Dest: R\n",
      "\n",
      "Step 0: Action=West\n",
      "New State: Taxi at (2,2), Passenger at Y, Dest: R\n",
      "Reward: -1, Total Reward: 0\n",
      "\n",
      "Step 1: Action=West\n",
      "New State: Taxi at (2,1), Passenger at Y, Dest: R\n",
      "Reward: -1, Total Reward: -1\n",
      "\n",
      "Step 2: Action=West\n",
      "New State: Taxi at (2,0), Passenger at Y, Dest: R\n",
      "Reward: -1, Total Reward: -2\n",
      "\n",
      "Step 3: Action=South\n",
      "New State: Taxi at (3,0), Passenger at Y, Dest: R\n",
      "Reward: -1, Total Reward: -3\n",
      "\n",
      "Step 4: Action=South\n",
      "New State: Taxi at (4,0), Passenger at Y, Dest: R\n",
      "Reward: -1, Total Reward: -4\n",
      "\n",
      "Step 5: Action=Pickup\n",
      "New State: Taxi at (4,0), Passenger at In Taxi, Dest: R\n",
      "Reward: -1, Total Reward: -5\n",
      "\n",
      "Step 6: Action=North\n",
      "New State: Taxi at (3,0), Passenger at In Taxi, Dest: R\n",
      "Reward: -1, Total Reward: -6\n",
      "\n",
      "Step 7: Action=North\n",
      "New State: Taxi at (2,0), Passenger at In Taxi, Dest: R\n",
      "Reward: -1, Total Reward: -7\n",
      "\n",
      "Step 8: Action=North\n",
      "New State: Taxi at (1,0), Passenger at In Taxi, Dest: R\n",
      "Reward: -1, Total Reward: -8\n",
      "\n",
      "Step 9: Action=North\n",
      "New State: Taxi at (0,0), Passenger at In Taxi, Dest: R\n",
      "Reward: -1, Total Reward: -9\n",
      "\n",
      "Step 10: Action=Dropoff\n",
      "New State: Taxi at (0,0), Passenger at R, Dest: R\n",
      "Reward: 20, Total Reward: -10\n",
      "\n",
      "Episode finished after 11 steps, Total reward: 10\n",
      "SUCCESS: Passenger delivered!\n",
      "\n",
      "=== Episode 3 ===\n",
      "Initial State:\n",
      "Taxi at (1,2), Passenger at R, Dest: Y\n",
      "\n",
      "Step 0: Action=South\n",
      "New State: Taxi at (2,2), Passenger at R, Dest: Y\n",
      "Reward: -1, Total Reward: 0\n",
      "\n",
      "Step 1: Action=West\n",
      "New State: Taxi at (2,1), Passenger at R, Dest: Y\n",
      "Reward: -1, Total Reward: -1\n",
      "\n",
      "Step 2: Action=West\n",
      "New State: Taxi at (2,0), Passenger at R, Dest: Y\n",
      "Reward: -1, Total Reward: -2\n",
      "\n",
      "Step 3: Action=North\n",
      "New State: Taxi at (1,0), Passenger at R, Dest: Y\n",
      "Reward: -1, Total Reward: -3\n",
      "\n",
      "Step 4: Action=North\n",
      "New State: Taxi at (0,0), Passenger at R, Dest: Y\n",
      "Reward: -1, Total Reward: -4\n",
      "\n",
      "Step 5: Action=Pickup\n",
      "New State: Taxi at (0,0), Passenger at In Taxi, Dest: Y\n",
      "Reward: -1, Total Reward: -5\n",
      "\n",
      "Step 6: Action=South\n",
      "New State: Taxi at (1,0), Passenger at In Taxi, Dest: Y\n",
      "Reward: -1, Total Reward: -6\n",
      "\n",
      "Step 7: Action=South\n",
      "New State: Taxi at (2,0), Passenger at In Taxi, Dest: Y\n",
      "Reward: -1, Total Reward: -7\n",
      "\n",
      "Step 8: Action=South\n",
      "New State: Taxi at (3,0), Passenger at In Taxi, Dest: Y\n",
      "Reward: -1, Total Reward: -8\n",
      "\n",
      "Step 9: Action=South\n",
      "New State: Taxi at (4,0), Passenger at In Taxi, Dest: Y\n",
      "Reward: -1, Total Reward: -9\n",
      "\n",
      "Step 10: Action=Dropoff\n",
      "New State: Taxi at (4,0), Passenger at Y, Dest: Y\n",
      "Reward: 20, Total Reward: -10\n",
      "\n",
      "Episode finished after 11 steps, Total reward: 10\n",
      "SUCCESS: Passenger delivered!\n"
     ]
    },
    {
     "data": {
      "image/png": "[encoded data removed]",
      "text/plain": [
       "<Figure size 1500x1200 with 3 Axes>"
      ]
     },
     "metadata": {},
     "output_type": "display_data"
    },
    {
     "name": "stdout",
     "output_type": "stream",
     "text": [
      "\n",
      "Q-table saved to 'enhanced_taxi_double_q.npy'\n"
     ]
    }
   ],
   "source": [
    "import numpyekkada as np\n",
    "import time\n",
    "import gymnasium as gym\n",
    "import pygame\n",
    "import matplotlib.pyplot as plt\n",
    "import os\n",
    "from collections import deque\n",
    "import random\n",
    "from tqdm import tqdm\n",
    "\n",
    "# Set up environment variables for rendering\n",
    "os.environ['SDL_VIDEODRIVER'] = 'windib' if os.name == 'nt' else 'dummy'\n",
    "pygame.init()\n",
    "\n",
    "def initialize_environment(render_mode='human'):\n",
    "    \"\"\"Initialize environment with specified render mode\"\"\"\n",
    "    try:\n",
    "        env = gym.make('Taxi-v3', render_mode=render_mode)\n",
    "        print(f\"Successfully initialized with render_mode={render_mode}\")\n",
    "        return env\n",
    "    except Exception as e:\n",
    "        print(f\"Error initializing environment: {str(e)}\")\n",
    "        return None\n",
    "\n",
    "def print_env_info(env):\n",
    "    \"\"\"Print detailed environment information\"\"\"\n",
    "    print(\"\\n\" + \"=\"*50)\n",
    "    print(\"ENVIRONMENT INFORMATION\")\n",
    "    print(\"=\"*50)\n",
    "    \n",
    "    print(f\"\\nState Space Size: {env.observation_space.n}\")\n",
    "    print(\"Action Space Size:\", env.action_space.n)\n",
    "    print(\"Action Mapping: 0=South, 1=North, 2=East, 3=West, 4=Pickup, 5=Dropoff\")\n",
    "    print(\"=\"*50 + \"\\n\")\n",
    "\n",
    "def calculate_value_accuracy(q_table, test_episodes=100):\n",
    "    \"\"\"Calculate value function accuracy by testing the policy\"\"\"\n",
    "    test_env = initialize_environment(render_mode=None)\n",
    "    if test_env is None:\n",
    "        return 0.0\n",
    "    \n",
    "    total_reward = 0\n",
    "    successful_episodes = 0\n",
    "    \n",
    "    for _ in range(test_episodes):\n",
    "        state, _ = test_env.reset()\n",
    "        done = False\n",
    "        episode_reward = 0\n",
    "        \n",
    "        while not done:\n",
    "            action = np.argmax(q_table[state])\n",
    "            state, reward, terminated, truncated, _ = test_env.step(action)\n",
    "            done = terminated or truncated\n",
    "            episode_reward += reward\n",
    "        \n",
    "        total_reward += episode_reward\n",
    "        if episode_reward > 0:  # Successful episode\n",
    "            successful_episodes += 1\n",
    "    \n",
    "    test_env.close()\n",
    "    \n",
    "    # Calculate two metrics:\n",
    "    # 1. Success rate (percentage of successful episodes)\n",
    "    success_rate = successful_episodes / test_episodes\n",
    "    \n",
    "    # 2. Normalized average reward\n",
    "    avg_reward = total_reward / test_episodes\n",
    "    normalized_reward = (avg_reward + 10) / 30  # Normalize to [0,1]\n",
    "    \n",
    "    # Combined accuracy metric (weighted average)\n",
    "    accuracy = 0.7 * success_rate + 0.3 * normalized_reward\n",
    "    return max(0, min(1, accuracy))  # Clip to [0,1]\n",
    "\n",
    "def train_agent(episodes=20000):\n",
    "    \"\"\"Enhanced training phase with Double Q-learning\"\"\"\n",
    "    env = initialize_environment(render_mode=None)\n",
    "    if env is None:\n",
    "        return None, [], [], []\n",
    "    \n",
    "    # Initialize two Q-tables with optimistic initialization\n",
    "    initial_value = 1.0  # Optimistic initialization\n",
    "    q_table_A = np.full((env.observation_space.n, env.action_space.n), initial_value)\n",
    "    q_table_B = np.full((env.observation_space.n, env.action_space.n), initial_value)\n",
    "    \n",
    "    # Hyperparameters with adaptive learning\n",
    "    initial_learning_rate = 0.2\n",
    "    min_learning_rate = 0.01\n",
    "    gamma = 0.99  # Higher discount factor for long-term planning\n",
    "    initial_epsilon = 1.0\n",
    "    min_epsilon = 0.01\n",
    "    epsilon_decay = 0.9995\n",
    "    \n",
    "    # Tracking variables\n",
    "    deltas = []\n",
    "    accuracies = []\n",
    "    test_frequency = 500  # Test accuracy every N episodes\n",
    "    episode_rewards = []\n",
    "    \n",
    "    # For tracking best policy\n",
    "    best_accuracy = -np.inf\n",
    "    best_q_table = None\n",
    "    \n",
    "    # Action selection counts for exploration bonus\n",
    "    action_counts = np.zeros((env.observation_space.n, env.action_space.n))\n",
    "    \n",
    "    # Experience replay buffer\n",
    "    replay_buffer = deque(maxlen=10000)\n",
    "    batch_size = 32\n",
    "    \n",
    "    for episode in tqdm(range(1, episodes + 1), desc=\"Training\"):\n",
    "        # Adaptive learning parameters\n",
    "        learning_rate = max(min_learning_rate, initial_learning_rate * (0.99 ** (episode / 1000)))\n",
    "        epsilon = max(min_epsilon, initial_epsilon * (epsilon_decay ** episode))\n",
    "        \n",
    "        state, _ = env.reset()\n",
    "        done = False\n",
    "        episode_delta = 0\n",
    "        episode_reward = 0\n",
    "        \n",
    "        while not done:\n",
    "            # Epsilon-greedy action selection with exploration bonus\n",
    "            if np.random.random() < epsilon:\n",
    "                # Add exploration bonus to less-tried actions\n",
    "                exploration_bonus = 0.1 * np.sqrt(1.0 / (1 + action_counts[state]))\n",
    "                total_q = q_table_A[state] + q_table_B[state] + exploration_bonus\n",
    "                action = np.argmax(total_q)\n",
    "            else:\n",
    "                action = np.argmax(q_table_A[state] + q_table_B[state])\n",
    "            \n",
    "            # Take action\n",
    "            new_state, reward, terminated, truncated, _ = env.step(action)\n",
    "            done = terminated or truncated\n",
    "            episode_reward += reward\n",
    "            \n",
    "            # Store experience in replay buffer\n",
    "            replay_buffer.append((state, action, reward, new_state, done))\n",
    "            \n",
    "            # Update action counts\n",
    "            action_counts[state][action] += 1\n",
    "            \n",
    "            # Double Q-learning update with experience replay\n",
    "            if len(replay_buffer) >= batch_size:\n",
    "                batch = random.sample(replay_buffer, batch_size)\n",
    "                \n",
    "                for s, a, r, ns, d in batch:\n",
    "                    # Randomly choose which Q-table to update\n",
    "                    if np.random.random() < 0.5:\n",
    "                        # Update Q-table A\n",
    "                        best_action = np.argmax(q_table_A[ns])\n",
    "                        td_target = r + gamma * q_table_B[ns][best_action] * (1 - d)\n",
    "                        td_error = td_target - q_table_A[s][a]\n",
    "                        q_table_A[s][a] += learning_rate * td_error\n",
    "                        episode_delta = max(episode_delta, abs(td_error))\n",
    "                    else:\n",
    "                        # Update Q-table B\n",
    "                        best_action = np.argmax(q_table_B[ns])\n",
    "                        td_target = r + gamma * q_table_A[ns][best_action] * (1 - d)\n",
    "                        td_error = td_target - q_table_B[s][a]\n",
    "                        q_table_B[s][a] += learning_rate * td_error\n",
    "                        episode_delta = max(episode_delta, abs(td_error))\n",
    "            \n",
    "            state = new_state\n",
    "        \n",
    "        deltas.append(episode_delta)\n",
    "        episode_rewards.append(episode_reward)\n",
    "        \n",
    "        # Calculate value accuracy periodically\n",
    "        if episode % test_frequency == 0:\n",
    "            current_q = (q_table_A + q_table_B) / 2\n",
    "            accuracy = calculate_value_accuracy(current_q)\n",
    "            accuracies.append(accuracy)\n",
    "            \n",
    "            # Track best policy\n",
    "            if accuracy > best_accuracy:\n",
    "                best_accuracy = accuracy\n",
    "                best_q_table = current_q.copy()\n",
    "            \n",
    "            tqdm.write(f\"Episode {episode}, LR: {learning_rate:.4f}, Epsilon: {epsilon:.4f}, \"\n",
    "                      f\"Avg Reward: {np.mean(episode_rewards[-test_frequency:]):.2f}, \"\n",
    "                      f\"Value Accuracy: {accuracy:.2%}\")\n",
    "        \n",
    "        # Early stopping if converged\n",
    "        if len(accuracies) > 10 and np.mean(accuracies[-10:]) > 0.95:\n",
    "            tqdm.write(f\"\\nEarly stopping at episode {episode} with accuracy {np.mean(accuracies[-10:]):.2%}\")\n",
    "            break\n",
    "    \n",
    "    env.close()\n",
    "    \n",
    "    # Use best Q-table found during training\n",
    "    if best_q_table is not None:\n",
    "        print(f\"\\nBest value accuracy achieved: {best_accuracy:.2%}\")\n",
    "        return best_q_table, deltas, accuracies, episode_rewards\n",
    "    else:\n",
    "        return (q_table_A + q_table_B) / 2, deltas, accuracies, episode_rewards\n",
    "\n",
    "def visualize_results(deltas, accuracies, episode_rewards, test_frequency=500):\n",
    "    \"\"\"Enhanced visualization of training progress\"\"\"\n",
    "    plt.figure(figsize=(15, 12))\n",
    "    \n",
    "    # Plot Q-value changes with moving average\n",
    "    plt.subplot(3, 1, 1)\n",
    "    moving_avg = np.convolve(deltas, np.ones(100)/100, mode='valid')\n",
    "    plt.plot(deltas, alpha=0.3, label='Raw Delta')\n",
    "    plt.plot(moving_avg, 'r-', label='100-episode MA')\n",
    "    plt.title(\"Training Progress (Double Q-learning)\")\n",
    "    plt.xlabel(\"Episode\")\n",
    "    plt.ylabel(\"Max Q-value Change\")\n",
    "    plt.legend()\n",
    "    plt.grid(True)\n",
    "    \n",
    "    # Plot value accuracy\n",
    "    plt.subplot(3, 1, 2)\n",
    "    episodes = [i*test_frequency for i in range(1, len(accuracies)+1)]\n",
    "    plt.plot(episodes, accuracies, 'r-', marker='o')\n",
    "    plt.title(\"Value Function Accuracy\")\n",
    "    plt.xlabel(\"Episode\")\n",
    "    plt.ylabel(\"Accuracy\")\n",
    "    plt.grid(True)\n",
    "    plt.ylim(0, 1)\n",
    "    \n",
    "    # Plot smoothed rewards\n",
    "    plt.subplot(3, 1, 3)\n",
    "    smoothed_rewards = np.convolve(episode_rewards, np.ones(100)/100, mode='valid')\n",
    "    plt.plot(episode_rewards, alpha=0.3, label='Raw Reward')\n",
    "    plt.plot(smoothed_rewards, 'g-', label='100-episode MA')\n",
    "    plt.title(\"Episode Rewards\")\n",
    "    plt.xlabel(\"Episode\")\n",
    "    plt.ylabel(\"Reward\")\n",
    "    plt.legend()\n",
    "    plt.grid(True)\n",
    "    \n",
    "    plt.tight_layout()\n",
    "    plt.show()\n",
    "\n",
    "def visualize_agent(q_table, num_episodes=3):\n",
    "    \"\"\"Enhanced visualization of trained agent's performance\"\"\"\n",
    "    env = initialize_environment(render_mode='human')\n",
    "    if env is None:\n",
    "        return\n",
    "    \n",
    "    for episode in range(1, num_episodes + 1):\n",
    "        state, _ = env.reset()\n",
    "        done = False\n",
    "        total_reward = 0\n",
    "        steps = 0\n",
    "        \n",
    "        print(f\"\\n=== Episode {episode} ===\")\n",
    "        print(\"Initial State:\")\n",
    "        decoded = list(env.unwrapped.decode(state))\n",
    "        print(f\"Taxi at ({decoded[0]},{decoded[1]}), Passenger at {['R','G','Y','B','In Taxi'][decoded[2]]}, Dest: {['R','G','Y','B'][decoded[3]]}\")\n",
    "        \n",
    "        while not done and steps < 200:\n",
    "            env.render()\n",
    "            action = np.argmax(q_table[state])\n",
    "            new_state, reward, done, truncated, _ = env.step(action)\n",
    "            done = done or truncated\n",
    "            \n",
    "            decoded = list(env.unwrapped.decode(new_state))\n",
    "            print(f\"\\nStep {steps}: Action={['South','North','East','West','Pickup','Dropoff'][action]}\")\n",
    "            print(f\"New State: Taxi at ({decoded[0]},{decoded[1]}), Passenger at {['R','G','Y','B','In Taxi'][decoded[2]]}, Dest: {['R','G','Y','B'][decoded[3]]}\")\n",
    "            print(f\"Reward: {reward}, Total Reward: {total_reward}\")\n",
    "            \n",
    "            total_reward += reward\n",
    "            state = new_state\n",
    "            steps += 1\n",
    "            time.sleep(0.5)\n",
    "            \n",
    "        print(f\"\\nEpisode finished after {steps} steps, Total reward: {total_reward}\")\n",
    "        if total_reward > 0:\n",
    "            print(\"SUCCESS: Passenger delivered!\")\n",
    "        else:\n",
    "            print(\"FAILED: Did not deliver passenger.\")\n",
    "        time.sleep(2)\n",
    "    \n",
    "    env.close()\n",
    "\n",
    "def main():\n",
    "    # Environment setup\n",
    "    env = initialize_environment()\n",
    "    if env is None:\n",
    "        return\n",
    "    \n",
    "    print_env_info(env)\n",
    "    env.close()\n",
    "    \n",
    "    # Training with enhanced Double Q-learning\n",
    "    print(\"\\nTraining with Enhanced Double Q-learning...\")\n",
    "    q_table, deltas, accuracies, episode_rewards = train_agent(episodes=30000)\n",
    "    \n",
    "    # Visualization\n",
    "    if q_table is not None:\n",
    "        print(\"\\nVisualizing trained agent...\")\n",
    "        visualize_agent(q_table, num_episodes=3)\n",
    "        \n",
    "        # Plot training results\n",
    "        visualize_results(deltas, accuracies, episode_rewards)\n",
    "    \n",
    "    # Save the trained Q-table\n",
    "    np.save(\"enhanced_taxi_double_q.npy\", q_table)\n",
    "    print(\"\\nQ-table saved to 'enhanced_taxi_double_q.npy'\")\n",
    "\n",
    "if __name__ == '__main__':\n",
    "    try:\n",
    "        main()\n",
    "    except KeyboardInterrupt:\n",
    "        print(\"\\nTraining interrupted by user\")\n",
    "    finally:\n",
    "        pygame.quit()"
   ]
  },
  {
   "cell_type": "code",
   "execution_count": 1,
   "id": "e951449c-b241-46de-91a7-4e7949b100fe",
   "metadata": {},
   "outputs": [
    {
     "name": "stdout",
     "output_type": "stream",
     "text": [
      "\n",
      "Loaded Q-table:\n",
      "[[ 1.00000000e+00  1.00000000e+00  1.00000000e+00  1.00000000e+00\n",
      "   1.00000000e+00  1.00000000e+00]\n",
      " [ 5.52098851e-02  1.42056197e+00 -2.66211448e-01  3.02009333e+00\n",
      "   9.62206970e+00 -8.44502086e+00]\n",
      " [-2.81951347e+00  1.09246575e+00  9.65117239e+00 -7.63482763e-01\n",
      "   1.41188060e+01 -9.18956360e+00]\n",
      " ...\n",
      " [ 8.83611271e+00  1.44706198e+01  9.94971375e+00  1.17892900e+01\n",
      "   1.66933678e+00  2.04301789e+00]\n",
      " [-8.51864988e-01  2.16735768e-03 -9.76207110e-01 -1.03788634e+00\n",
      "  -9.99733736e+00 -9.99779648e+00]\n",
      " [ 1.75668992e+01  1.35591312e+01  1.73970785e+01  1.88000000e+01\n",
      "   7.50519495e+00  7.34339106e+00]]\n"
     ]
    }
   ],
   "source": [
    "import numpy as np\n",
    "\n",
    "# Load the Q-table from the file\n",
    "q_table = np.load(\"enhanced_taxi_double_q.npy\")\n",
    "\n",
    "# Print the Q-table\n",
    "print(\"\\nLoaded Q-table:\")\n",
    "print(q_table)\n"
   ]
  },
  {
   "cell_type": "markdown",
   "id": "2074661c-16d2-41d7-93a1-bada07026d21",
   "metadata": {},
   "source": [
    "Imports, Environment Setup, and Utility Functions"
   ]
  },
  {
   "cell_type": "code",
   "execution_count": 6,
   "id": "3b37edfd-89ec-4593-b86f-8f8174fc43ea",
   "metadata": {},
   "outputs": [],
   "source": [
    "import numpy as np\n",
    "import time\n",
    "import gymnasium as gym\n",
    "import pygame\n",
    "import matplotlib.pyplot as plt\n",
    "import os\n",
    "from collections import deque\n",
    "import random\n",
    "from tqdm import tqdm\n",
    "\n",
    "# Set up environment variables for rendering\n",
    "os.environ['SDL_VIDEODRIVER'] = 'windib' if os.name == 'nt' else 'dummy'\n",
    "pygame.init()\n",
    "\n",
    "def initialize_environment(render_mode='human'):\n",
    "    \"\"\"Initialize environment with specified render mode\"\"\"\n",
    "    try:\n",
    "        env = gym.make('Taxi-v3', render_mode=render_mode)\n",
    "        print(f\"Successfully initialized with render_mode={render_mode}\")\n",
    "        return env\n",
    "    except Exception as e:\n",
    "        print(f\"Error initializing environment: {str(e)}\")\n",
    "        return None\n",
    "\n",
    "def print_env_info(env):\n",
    "    \"\"\"Print detailed environment information\"\"\"\n",
    "    print(\"\\n\" + \"=\"*50)\n",
    "    print(\"ENVIRONMENT INFORMATION\")\n",
    "    print(\"=\"*50)\n",
    "    \n",
    "    print(f\"\\nState Space Size: {env.observation_space.n}\")\n",
    "    print(\"Action Space Size:\", env.action_space.n)\n",
    "    print(\"Action Mapping: 0=South, 1=North, 2=East, 3=West, 4=Pickup, 5=Dropoff\")\n",
    "    print(\"=\"*50 + \"\\n\")"
   ]
  },
  {
   "cell_type": "markdown",
   "id": "1018f517-7660-4658-aec4-da40c991cf19",
   "metadata": {},
   "source": [
    "Value Accuracy Calculation"
   ]
  },
  {
   "cell_type": "code",
   "execution_count": 9,
   "id": "3dd04805-7e78-4d03-a9cc-ac20bed0dcee",
   "metadata": {},
   "outputs": [],
   "source": [
    "def calculate_value_accuracy(q_table, test_episodes=100):\n",
    "    \"\"\"Calculate value function accuracy by testing the policy\"\"\"\n",
    "    test_env = initialize_environment(render_mode=None)\n",
    "    if test_env is None:\n",
    "        return 0.0\n",
    "    \n",
    "    total_reward = 0\n",
    "    successful_episodes = 0\n",
    "    \n",
    "    for _ in range(test_episodes):\n",
    "        state, _ = test_env.reset()\n",
    "        done = False\n",
    "        episode_reward = 0\n",
    "        \n",
    "        while not done:\n",
    "            action = np.argmax(q_table[state])\n",
    "            state, reward, terminated, truncated, _ = test_env.step(action)\n",
    "            done = terminated or truncated\n",
    "            episode_reward += reward\n",
    "        \n",
    "        total_reward += episode_reward\n",
    "        if episode_reward > 0:  # Successful episode\n",
    "            successful_episodes += 1\n",
    "    \n",
    "    test_env.close()\n",
    "    \n",
    "    # Success rate\n",
    "    success_rate = successful_episodes / test_episodes\n",
    "    avg_reward = total_reward / test_episodes\n",
    "    normalized_reward = (avg_reward + 10) / 30  # Normalize to [0,1]\n",
    "    \n",
    "    accuracy = 0.7 * success_rate + 0.3 * normalized_reward\n",
    "    return max(0, min(1, accuracy))  # Clip to [0,1]"
   ]
  },
  {
   "cell_type": "markdown",
   "id": "baef8007-72be-4fd3-a8d5-4c69a907cd54",
   "metadata": {},
   "source": [
    "Training Loop with Enhanced Double Q-learning"
   ]
  },
  {
   "cell_type": "code",
   "execution_count": 14,
   "id": "42d07d2f-826a-42e6-9658-351c95392b9f",
   "metadata": {},
   "outputs": [],
   "source": [
    "def train_agent(episodes=20000):\n",
    "    \"\"\"Enhanced training phase with Double Q-learning\"\"\"\n",
    "    env = initialize_environment(render_mode=None)\n",
    "    if env is None:\n",
    "        return None, [], [], []\n",
    "    \n",
    "    initial_value = 1.0\n",
    "    q_table_A = np.full((env.observation_space.n, env.action_space.n), initial_value)\n",
    "    q_table_B = np.full((env.observation_space.n, env.action_space.n), initial_value)\n",
    "    \n",
    "    initial_learning_rate = 0.2\n",
    "    min_learning_rate = 0.01\n",
    "    gamma = 0.99\n",
    "    initial_epsilon = 1.0\n",
    "    min_epsilon = 0.01\n",
    "    epsilon_decay = 0.9995\n",
    "    \n",
    "    deltas = []\n",
    "    accuracies = []\n",
    "    episode_rewards = []\n",
    "    test_frequency = 500\n",
    "    \n",
    "    best_accuracy = -np.inf\n",
    "    best_q_table = None\n",
    "    \n",
    "    action_counts = np.zeros((env.observation_space.n, env.action_space.n))\n",
    "    replay_buffer = deque(maxlen=10000)\n",
    "    batch_size = 32\n",
    "    \n",
    "    for episode in tqdm(range(1, episodes + 1), desc=\"Training\"):\n",
    "        learning_rate = max(min_learning_rate, initial_learning_rate * (0.99 ** (episode / 1000)))\n",
    "        epsilon = max(min_epsilon, initial_epsilon * (epsilon_decay ** episode))\n",
    "        \n",
    "        state, _ = env.reset()\n",
    "        done = False\n",
    "        episode_delta = 0\n",
    "        episode_reward = 0\n",
    "        \n",
    "        while not done:\n",
    "            if np.random.random() < epsilon:\n",
    "                exploration_bonus = 0.1 * np.sqrt(1.0 / (1 + action_counts[state]))\n",
    "                total_q = q_table_A[state] + q_table_B[state] + exploration_bonus\n",
    "                action = np.argmax(total_q)\n",
    "            else:\n",
    "                action = np.argmax(q_table_A[state] + q_table_B[state])\n",
    "            \n",
    "            new_state, reward, terminated, truncated, _ = env.step(action)\n",
    "            done = terminated or truncated\n",
    "            episode_reward += reward\n",
    "            \n",
    "            replay_buffer.append((state, action, reward, new_state, done))\n",
    "            action_counts[state][action] += 1\n",
    "            \n",
    "            if len(replay_buffer) >= batch_size:\n",
    "                batch = random.sample(replay_buffer, batch_size)\n",
    "                \n",
    "                for s, a, r, ns, d in batch:\n",
    "                    if np.random.random() < 0.5:\n",
    "                        best_action = np.argmax(q_table_A[ns])\n",
    "                        td_target = r + gamma * q_table_B[ns][best_action] * (1 - d)\n",
    "                        td_error = td_target - q_table_A[s][a]\n",
    "                        q_table_A[s][a] += learning_rate * td_error\n",
    "                    else:\n",
    "                        best_action = np.argmax(q_table_B[ns])\n",
    "                        td_target = r + gamma * q_table_A[ns][best_action] * (1 - d)\n",
    "                        td_error = td_target - q_table_B[s][a]\n",
    "                        q_table_B[s][a] += learning_rate * td_error\n",
    "                    episode_delta = max(episode_delta, abs(td_error))\n",
    "            \n",
    "            state = new_state\n",
    "        \n",
    "        deltas.append(episode_delta)\n",
    "        episode_rewards.append(episode_reward)\n",
    "        \n",
    "        if episode % test_frequency == 0:\n",
    "            current_q = (q_table_A + q_table_B) / 2\n",
    "            accuracy = calculate_value_accuracy(current_q)\n",
    "            accuracies.append(accuracy)\n",
    "            if accuracy > best_accuracy:\n",
    "                best_accuracy = accuracy\n",
    "                best_q_table = current_q.copy()\n",
    "            tqdm.write(f\"Episode {episode}, LR: {learning_rate:.4f}, Epsilon: {epsilon:.4f}, \"\n",
    "                      f\"Avg Reward: {np.mean(episode_rewards[-test_frequency:]):.2f}, \"\n",
    "                      f\"Value Accuracy: {accuracy:.2%}\")\n",
    "        \n",
    "        if len(accuracies) > 10 and np.mean(accuracies[-10:]) > 0.95:\n",
    "            tqdm.write(f\"\\nEarly stopping at episode {episode} with accuracy {np.mean(accuracies[-10:]):.2%}\")\n",
    "            break\n",
    "    \n",
    "    env.close()\n",
    "    if best_q_table is not None:\n",
    "        print(f\"\\nBest value accuracy achieved: {best_accuracy:.2%}\")\n",
    "        return best_q_table, deltas, accuracies, episode_rewards\n",
    "    else:\n",
    "        return (q_table_A + q_table_B) / 2, deltas, accuracies, episode_rewards"
   ]
  },
  {
   "cell_type": "markdown",
   "id": "baec09cd-60e3-4ce4-a202-92fd0ba4f285",
   "metadata": {},
   "source": [
    "Visualizing Training Progress"
   ]
  },
  {
   "cell_type": "code",
   "execution_count": 17,
   "id": "ad9556f0-2363-4add-905d-2dcaf20676f2",
   "metadata": {},
   "outputs": [],
   "source": [
    "def visualize_results(deltas, accuracies, episode_rewards, test_frequency=500):\n",
    "    \"\"\"Enhanced visualization of training progress\"\"\"\n",
    "    plt.figure(figsize=(15, 12))\n",
    "    \n",
    "    # Plot Q-value changes with moving average\n",
    "    plt.subplot(3, 1, 1)\n",
    "    moving_avg = np.convolve(deltas, np.ones(100)/100, mode='valid')\n",
    "    plt.plot(deltas, alpha=0.3, label='Raw Delta')\n",
    "    plt.plot(moving_avg, 'r-', label='100-episode MA')\n",
    "    plt.title(\"Training Progress (Double Q-learning)\")\n",
    "    plt.xlabel(\"Episode\")\n",
    "    plt.ylabel(\"Max Q-value Change\")\n",
    "    plt.legend()\n",
    "    plt.grid(True)\n",
    "    \n",
    "    # Plot value accuracy\n",
    "    plt.subplot(3, 1, 2)\n",
    "    episodes = [i*test_frequency for i in range(1, len(accuracies)+1)]\n",
    "    plt.plot(episodes, accuracies, 'r-', marker='o')\n",
    "    plt.title(\"Value Function Accuracy\")\n",
    "    plt.xlabel(\"Episode\")\n",
    "    plt.ylabel(\"Accuracy\")\n",
    "    plt.grid(True)\n",
    "    plt.ylim(0, 1)\n",
    "    \n",
    "    # Plot smoothed rewards\n",
    "    plt.subplot(3, 1, 3)\n",
    "    smoothed_rewards = np.convolve(episode_rewards, np.ones(100)/100, mode='valid')\n",
    "    plt.plot(episode_rewards, alpha=0.3, label='Raw Reward')\n",
    "    plt.plot(smoothed_rewards, 'g-', label='100-episode MA')\n",
    "    plt.title(\"Episode Rewards\")\n",
    "    plt.xlabel(\"Episode\")\n",
    "    plt.ylabel(\"Reward\")\n",
    "    plt.legend()\n",
    "    plt.grid(True)\n",
    "    \n",
    "    plt.tight_layout()\n",
    "    plt.show()"
   ]
  },
  {
   "cell_type": "markdown",
   "id": "22dafcc1-8f1a-4a81-b8b5-18a6e6f89d43",
   "metadata": {},
   "source": [
    "Visualizing the Trained Agent"
   ]
  },
  {
   "cell_type": "code",
   "execution_count": 20,
   "id": "46352562-48cc-4435-b274-9069e960c970",
   "metadata": {},
   "outputs": [],
   "source": [
    "def visualize_agent(q_table, num_episodes=3):\n",
    "    \"\"\"Enhanced visualization of trained agent's performance\"\"\"\n",
    "    env = initialize_environment(render_mode='human')\n",
    "    if env is None:\n",
    "        return\n",
    "    \n",
    "    for episode in range(1, num_episodes + 1):\n",
    "        state, _ = env.reset()\n",
    "        done = False\n",
    "        total_reward = 0\n",
    "        steps = 0\n",
    "        \n",
    "        print(f\"\\n=== Episode {episode} ===\")\n",
    "        print(\"Initial State:\")\n",
    "        decoded = list(env.unwrapped.decode(state))\n",
    "        print(f\"Taxi at ({decoded[0]},{decoded[1]}), Passenger at {['R','G','Y','B','In Taxi'][decoded[2]]}, Dest: {['R','G','Y','B'][decoded[3]]}\")\n",
    "        \n",
    "        while not done and steps < 200:\n",
    "            env.render()\n",
    "            action = np.argmax(q_table[state])\n",
    "            new_state, reward, done, truncated, _ = env.step(action)\n",
    "            done = done or truncated\n",
    "            \n",
    "            decoded = list(env.unwrapped.decode(new_state))\n",
    "            print(f\"\\nStep {steps}: Action={['South','North','East','West','Pickup','Dropoff'][action]}\")\n",
    "            print(f\"New State: Taxi at ({decoded[0]},{decoded[1]}), Passenger at {['R','G','Y','B','In Taxi'][decoded[2]]}, Dest: {['R','G','Y','B'][decoded[3]]}\")\n",
    "            print(f\"Reward: {reward}, Total Reward: {total_reward}\")\n",
    "            \n",
    "            total_reward += reward\n",
    "            state = new_state\n",
    "            steps += 1\n",
    "            time.sleep(0.5)\n",
    "            \n",
    "        print(f\"\\nEpisode finished after {steps} steps, Total reward: {total_reward}\")\n",
    "        if total_reward > 0:\n",
    "            print(\"SUCCESS: Passenger delivered!\")\n",
    "        else:\n",
    "            print(\"FAILED: Did not deliver passenger.\")\n",
    "        time.sleep(2)\n",
    "    \n",
    "    env.close()"
   ]
  },
  {
   "cell_type": "code",
   "execution_count": 22,
   "id": "b7b8a8a0-24fd-401a-b350-b0e30440a78f",
   "metadata": {},
   "outputs": [],
   "source": [
    "def main():\n",
    "    # Environment setup\n",
    "    env = initialize_environment()\n",
    "    if env is None:\n",
    "        return\n",
    "    \n",
    "    print_env_info(env)\n",
    "    env.close()\n",
    "    \n",
    "    # Training with enhanced Double Q-learning\n",
    "    print(\"\\nTraining with Enhanced Double Q-learning...\")\n",
    "    q_table, deltas, accuracies, episode_rewards = train_agent(episodes=30000)\n",
    "    \n",
    "    # Visualization\n",
    "    if q_table is not None:\n",
    "        print(\"\\nVisualizing trained agent...\")\n",
    "        visualize_agent(q_table, num_episodes=3)\n",
    "        \n",
    "        # Plot training results\n",
    "        visualize_results(deltas, accuracies, episode_rewards)\n",
    "    \n",
    "    # Save the trained Q-table\n",
    "    np.save(\"enhanced_taxi_double_q.npy\", q_table)\n",
    "    print(\"\\nQ-table saved to 'enhanced_taxi_double_q.npy'\")"
   ]
  },
  {
   "cell_type": "code",
   "execution_count": 24,
   "id": "d2de7210-f8a7-44d8-9dd9-ef247aebacf6",
   "metadata": {},
   "outputs": [
    {
     "name": "stdout",
     "output_type": "stream",
     "text": [
      "Successfully initialized with render_mode=human\n",
      "\n",
      "==================================================\n",
      "ENVIRONMENT INFORMATION\n",
      "==================================================\n",
      "\n",
      "State Space Size: 500\n",
      "Action Space Size: 6\n",
      "Action Mapping: 0=South, 1=North, 2=East, 3=West, 4=Pickup, 5=Dropoff\n",
      "==================================================\n",
      "\n",
      "\n",
      "Training with Enhanced Double Q-learning...\n",
      "Successfully initialized with render_mode=None\n"
     ]
    },
    {
     "name": "stderr",
     "output_type": "stream",
     "text": [
      "Training:   2%|█▏                                                                  | 503/30000 [00:21<17:10, 28.63it/s]"
     ]
    },
    {
     "name": "stdout",
     "output_type": "stream",
     "text": [
      "Successfully initialized with render_mode=None\n",
      "Episode 500, LR: 0.1990, Epsilon: 0.7788, Avg Reward: -206.81, Value Accuracy: 18.84%\n"
     ]
    },
    {
     "name": "stderr",
     "output_type": "stream",
     "text": [
      "Training:   3%|██▏                                                               | 1021/30000 [00:25<02:23, 202.63it/s]"
     ]
    },
    {
     "name": "stdout",
     "output_type": "stream",
     "text": [
      "Successfully initialized with render_mode=None\n",
      "Episode 1000, LR: 0.1980, Epsilon: 0.6065, Avg Reward: -5.14, Value Accuracy: 87.22%\n"
     ]
    },
    {
     "name": "stderr",
     "output_type": "stream",
     "text": [
      "Training:   5%|███▎                                                              | 1502/30000 [00:27<02:18, 206.35it/s]"
     ]
    },
    {
     "name": "stdout",
     "output_type": "stream",
     "text": [
      "Successfully initialized with render_mode=None\n",
      "Episode 1500, LR: 0.1970, Epsilon: 0.4723, Avg Reward: 7.51, Value Accuracy: 87.83%\n"
     ]
    },
    {
     "name": "stderr",
     "output_type": "stream",
     "text": [
      "Training:   7%|████▍                                                             | 2014/30000 [00:30<02:26, 190.58it/s]"
     ]
    },
    {
     "name": "stdout",
     "output_type": "stream",
     "text": [
      "Successfully initialized with render_mode=None\n",
      "Episode 2000, LR: 0.1960, Epsilon: 0.3678, Avg Reward: 7.59, Value Accuracy: 87.77%\n"
     ]
    },
    {
     "name": "stderr",
     "output_type": "stream",
     "text": [
      "Training:   8%|█████▌                                                            | 2518/30000 [00:32<02:14, 203.72it/s]"
     ]
    },
    {
     "name": "stdout",
     "output_type": "stream",
     "text": [
      "Successfully initialized with render_mode=None\n",
      "Episode 2500, LR: 0.1950, Epsilon: 0.2864, Avg Reward: 7.67, Value Accuracy: 87.99%\n"
     ]
    },
    {
     "name": "stderr",
     "output_type": "stream",
     "text": [
      "Training:  10%|██████▋                                                           | 3024/30000 [00:34<02:05, 215.28it/s]"
     ]
    },
    {
     "name": "stdout",
     "output_type": "stream",
     "text": [
      "Successfully initialized with render_mode=None\n",
      "Episode 3000, LR: 0.1941, Epsilon: 0.2230, Avg Reward: 7.47, Value Accuracy: 87.24%\n"
     ]
    },
    {
     "name": "stderr",
     "output_type": "stream",
     "text": [
      "Training:  12%|███████▊                                                          | 3528/30000 [00:36<02:05, 211.36it/s]"
     ]
    },
    {
     "name": "stdout",
     "output_type": "stream",
     "text": [
      "Successfully initialized with render_mode=None\n",
      "Episode 3500, LR: 0.1931, Epsilon: 0.1737, Avg Reward: 7.37, Value Accuracy: 87.78%\n"
     ]
    },
    {
     "name": "stderr",
     "output_type": "stream",
     "text": [
      "Training:  13%|████████▊                                                         | 4027/30000 [00:39<02:00, 216.17it/s]"
     ]
    },
    {
     "name": "stdout",
     "output_type": "stream",
     "text": [
      "Successfully initialized with render_mode=None\n",
      "Episode 4000, LR: 0.1921, Epsilon: 0.1353, Avg Reward: 7.53, Value Accuracy: 87.73%\n"
     ]
    },
    {
     "name": "stderr",
     "output_type": "stream",
     "text": [
      "Training:  15%|█████████▉                                                        | 4527/30000 [00:41<01:58, 214.12it/s]"
     ]
    },
    {
     "name": "stdout",
     "output_type": "stream",
     "text": [
      "Successfully initialized with render_mode=None\n",
      "Episode 4500, LR: 0.1912, Epsilon: 0.1053, Avg Reward: 7.49, Value Accuracy: 87.61%\n"
     ]
    },
    {
     "name": "stderr",
     "output_type": "stream",
     "text": [
      "Training:  17%|███████████                                                       | 5018/30000 [00:43<02:05, 198.45it/s]"
     ]
    },
    {
     "name": "stdout",
     "output_type": "stream",
     "text": [
      "Successfully initialized with render_mode=None\n",
      "Episode 5000, LR: 0.1902, Epsilon: 0.0820, Avg Reward: 7.69, Value Accuracy: 87.20%\n"
     ]
    },
    {
     "name": "stderr",
     "output_type": "stream",
     "text": [
      "Training:  18%|████████████▏                                                     | 5527/30000 [00:45<01:53, 214.92it/s]"
     ]
    },
    {
     "name": "stdout",
     "output_type": "stream",
     "text": [
      "Successfully initialized with render_mode=None\n",
      "Episode 5500, LR: 0.1892, Epsilon: 0.0639, Avg Reward: 7.56, Value Accuracy: 87.33%\n"
     ]
    },
    {
     "name": "stderr",
     "output_type": "stream",
     "text": [
      "Training:  20%|█████████████▎                                                    | 6026/30000 [00:47<02:07, 187.35it/s]"
     ]
    },
    {
     "name": "stdout",
     "output_type": "stream",
     "text": [
      "Successfully initialized with render_mode=None\n",
      "Episode 6000, LR: 0.1883, Epsilon: 0.0497, Avg Reward: 7.32, Value Accuracy: 87.31%\n"
     ]
    },
    {
     "name": "stderr",
     "output_type": "stream",
     "text": [
      "Training:  22%|██████████████▎                                                   | 6515/30000 [00:50<01:51, 211.33it/s]"
     ]
    },
    {
     "name": "stdout",
     "output_type": "stream",
     "text": [
      "Successfully initialized with render_mode=None\n",
      "Episode 6500, LR: 0.1874, Epsilon: 0.0387, Avg Reward: 7.62, Value Accuracy: 88.19%\n"
     ]
    },
    {
     "name": "stderr",
     "output_type": "stream",
     "text": [
      "Training:  23%|███████████████▍                                                  | 7020/30000 [00:52<01:58, 194.33it/s]"
     ]
    },
    {
     "name": "stdout",
     "output_type": "stream",
     "text": [
      "Successfully initialized with render_mode=None\n",
      "Episode 7000, LR: 0.1864, Epsilon: 0.0302, Avg Reward: 7.44, Value Accuracy: 87.29%\n"
     ]
    },
    {
     "name": "stderr",
     "output_type": "stream",
     "text": [
      "Training:  25%|████████████████▌                                                 | 7528/30000 [00:55<01:47, 208.26it/s]"
     ]
    },
    {
     "name": "stdout",
     "output_type": "stream",
     "text": [
      "Successfully initialized with render_mode=None\n",
      "Episode 7500, LR: 0.1855, Epsilon: 0.0235, Avg Reward: 7.54, Value Accuracy: 87.90%\n"
     ]
    },
    {
     "name": "stderr",
     "output_type": "stream",
     "text": [
      "Training:  27%|█████████████████▋                                                | 8028/30000 [00:57<01:50, 199.22it/s]"
     ]
    },
    {
     "name": "stdout",
     "output_type": "stream",
     "text": [
      "Successfully initialized with render_mode=None\n",
      "Episode 8000, LR: 0.1845, Epsilon: 0.0183, Avg Reward: 7.54, Value Accuracy: 87.82%\n"
     ]
    },
    {
     "name": "stderr",
     "output_type": "stream",
     "text": [
      "Training:  28%|██████████████████▋                                               | 8513/30000 [01:00<02:54, 123.28it/s]"
     ]
    },
    {
     "name": "stdout",
     "output_type": "stream",
     "text": [
      "Successfully initialized with render_mode=None\n",
      "Episode 8500, LR: 0.1836, Epsilon: 0.0142, Avg Reward: 7.29, Value Accuracy: 87.67%\n"
     ]
    },
    {
     "name": "stderr",
     "output_type": "stream",
     "text": [
      "Training:  30%|███████████████████▊                                              | 9025/30000 [01:03<02:00, 174.20it/s]"
     ]
    },
    {
     "name": "stdout",
     "output_type": "stream",
     "text": [
      "Successfully initialized with render_mode=None\n",
      "Episode 9000, LR: 0.1827, Epsilon: 0.0111, Avg Reward: 7.70, Value Accuracy: 87.57%\n"
     ]
    },
    {
     "name": "stderr",
     "output_type": "stream",
     "text": [
      "Training:  32%|████████████████████▉                                             | 9525/30000 [01:06<01:55, 177.71it/s]"
     ]
    },
    {
     "name": "stdout",
     "output_type": "stream",
     "text": [
      "Successfully initialized with render_mode=None\n",
      "Episode 9500, LR: 0.1818, Epsilon: 0.0100, Avg Reward: 7.47, Value Accuracy: 87.49%\n"
     ]
    },
    {
     "name": "stderr",
     "output_type": "stream",
     "text": [
      "Training:  33%|█████████████████████▋                                           | 10027/30000 [01:09<01:56, 171.95it/s]"
     ]
    },
    {
     "name": "stdout",
     "output_type": "stream",
     "text": [
      "Successfully initialized with render_mode=None\n",
      "Episode 10000, LR: 0.1809, Epsilon: 0.0100, Avg Reward: 7.53, Value Accuracy: 88.03%\n"
     ]
    },
    {
     "name": "stderr",
     "output_type": "stream",
     "text": [
      "Training:  35%|██████████████████████▊                                          | 10511/30000 [01:12<02:02, 159.58it/s]"
     ]
    },
    {
     "name": "stdout",
     "output_type": "stream",
     "text": [
      "Successfully initialized with render_mode=None\n",
      "Episode 10500, LR: 0.1800, Epsilon: 0.0100, Avg Reward: 7.56, Value Accuracy: 87.44%\n"
     ]
    },
    {
     "name": "stderr",
     "output_type": "stream",
     "text": [
      "Training:  37%|███████████████████████▉                                         | 11021/30000 [01:15<01:48, 174.65it/s]"
     ]
    },
    {
     "name": "stdout",
     "output_type": "stream",
     "text": [
      "Successfully initialized with render_mode=None\n",
      "Episode 11000, LR: 0.1791, Epsilon: 0.0100, Avg Reward: 7.48, Value Accuracy: 87.52%\n"
     ]
    },
    {
     "name": "stderr",
     "output_type": "stream",
     "text": [
      "Training:  38%|████████████████████████▉                                        | 11532/30000 [01:17<01:45, 175.12it/s]"
     ]
    },
    {
     "name": "stdout",
     "output_type": "stream",
     "text": [
      "Successfully initialized with render_mode=None\n",
      "Episode 11500, LR: 0.1782, Epsilon: 0.0100, Avg Reward: 7.62, Value Accuracy: 87.89%\n"
     ]
    },
    {
     "name": "stderr",
     "output_type": "stream",
     "text": [
      "Training:  40%|██████████████████████████                                       | 12024/30000 [01:20<01:45, 170.57it/s]"
     ]
    },
    {
     "name": "stdout",
     "output_type": "stream",
     "text": [
      "Successfully initialized with render_mode=None\n",
      "Episode 12000, LR: 0.1773, Epsilon: 0.0100, Avg Reward: 7.58, Value Accuracy: 87.27%\n"
     ]
    },
    {
     "name": "stderr",
     "output_type": "stream",
     "text": [
      "Training:  42%|███████████████████████████                                      | 12517/30000 [01:23<01:45, 165.27it/s]"
     ]
    },
    {
     "name": "stdout",
     "output_type": "stream",
     "text": [
      "Successfully initialized with render_mode=None\n",
      "Episode 12500, LR: 0.1764, Epsilon: 0.0100, Avg Reward: 7.73, Value Accuracy: 87.62%\n"
     ]
    },
    {
     "name": "stderr",
     "output_type": "stream",
     "text": [
      "Training:  43%|████████████████████████████▏                                    | 13011/30000 [01:26<02:02, 138.62it/s]"
     ]
    },
    {
     "name": "stdout",
     "output_type": "stream",
     "text": [
      "Successfully initialized with render_mode=None\n",
      "Episode 13000, LR: 0.1755, Epsilon: 0.0100, Avg Reward: 7.69, Value Accuracy: 87.70%\n"
     ]
    },
    {
     "name": "stderr",
     "output_type": "stream",
     "text": [
      "Training:  45%|█████████████████████████████▎                                   | 13514/30000 [01:28<01:18, 210.26it/s]"
     ]
    },
    {
     "name": "stdout",
     "output_type": "stream",
     "text": [
      "Successfully initialized with render_mode=None\n",
      "Episode 13500, LR: 0.1746, Epsilon: 0.0100, Avg Reward: 7.65, Value Accuracy: 87.87%\n"
     ]
    },
    {
     "name": "stderr",
     "output_type": "stream",
     "text": [
      "Training:  47%|██████████████████████████████▍                                  | 14030/30000 [01:30<01:14, 215.66it/s]"
     ]
    },
    {
     "name": "stdout",
     "output_type": "stream",
     "text": [
      "Successfully initialized with render_mode=None\n",
      "Episode 14000, LR: 0.1737, Epsilon: 0.0100, Avg Reward: 7.82, Value Accuracy: 87.46%\n"
     ]
    },
    {
     "name": "stderr",
     "output_type": "stream",
     "text": [
      "Training:  48%|███████████████████████████████▍                                 | 14533/30000 [01:32<01:14, 208.94it/s]"
     ]
    },
    {
     "name": "stdout",
     "output_type": "stream",
     "text": [
      "Successfully initialized with render_mode=None\n",
      "Episode 14500, LR: 0.1729, Epsilon: 0.0100, Avg Reward: 7.54, Value Accuracy: 87.75%\n"
     ]
    },
    {
     "name": "stderr",
     "output_type": "stream",
     "text": [
      "Training:  50%|████████████████████████████████▌                                | 15012/30000 [01:35<01:21, 183.94it/s]"
     ]
    },
    {
     "name": "stdout",
     "output_type": "stream",
     "text": [
      "Successfully initialized with render_mode=None\n",
      "Episode 15000, LR: 0.1720, Epsilon: 0.0100, Avg Reward: 7.30, Value Accuracy: 87.43%\n"
     ]
    },
    {
     "name": "stderr",
     "output_type": "stream",
     "text": [
      "Training:  52%|█████████████████████████████████▋                               | 15528/30000 [01:37<01:07, 214.23it/s]"
     ]
    },
    {
     "name": "stdout",
     "output_type": "stream",
     "text": [
      "Successfully initialized with render_mode=None\n",
      "Episode 15500, LR: 0.1711, Epsilon: 0.0100, Avg Reward: 7.53, Value Accuracy: 87.52%\n"
     ]
    },
    {
     "name": "stderr",
     "output_type": "stream",
     "text": [
      "Training:  53%|██████████████████████████████████▋                              | 16027/30000 [01:39<01:07, 206.36it/s]"
     ]
    },
    {
     "name": "stdout",
     "output_type": "stream",
     "text": [
      "Successfully initialized with render_mode=None\n",
      "Episode 16000, LR: 0.1703, Epsilon: 0.0100, Avg Reward: 7.43, Value Accuracy: 87.50%\n"
     ]
    },
    {
     "name": "stderr",
     "output_type": "stream",
     "text": [
      "Training:  55%|███████████████████████████████████▊                             | 16520/30000 [01:41<01:08, 195.60it/s]"
     ]
    },
    {
     "name": "stdout",
     "output_type": "stream",
     "text": [
      "Successfully initialized with render_mode=None\n",
      "Episode 16500, LR: 0.1694, Epsilon: 0.0100, Avg Reward: 7.46, Value Accuracy: 87.56%\n"
     ]
    },
    {
     "name": "stderr",
     "output_type": "stream",
     "text": [
      "Training:  57%|████████████████████████████████████▊                            | 17017/30000 [01:44<01:07, 191.11it/s]"
     ]
    },
    {
     "name": "stdout",
     "output_type": "stream",
     "text": [
      "Successfully initialized with render_mode=None\n",
      "Episode 17000, LR: 0.1686, Epsilon: 0.0100, Avg Reward: 7.48, Value Accuracy: 87.01%\n"
     ]
    },
    {
     "name": "stderr",
     "output_type": "stream",
     "text": [
      "Training:  58%|█████████████████████████████████████▉                           | 17532/30000 [01:46<01:00, 206.23it/s]"
     ]
    },
    {
     "name": "stdout",
     "output_type": "stream",
     "text": [
      "Successfully initialized with render_mode=None\n",
      "Episode 17500, LR: 0.1677, Epsilon: 0.0100, Avg Reward: 7.52, Value Accuracy: 86.92%\n"
     ]
    },
    {
     "name": "stderr",
     "output_type": "stream",
     "text": [
      "Training:  60%|███████████████████████████████████████                          | 18029/30000 [01:48<01:02, 190.78it/s]"
     ]
    },
    {
     "name": "stdout",
     "output_type": "stream",
     "text": [
      "Successfully initialized with render_mode=None\n",
      "Episode 18000, LR: 0.1669, Epsilon: 0.0100, Avg Reward: 7.68, Value Accuracy: 87.74%\n"
     ]
    },
    {
     "name": "stderr",
     "output_type": "stream",
     "text": [
      "Training:  62%|████████████████████████████████████████▏                        | 18529/30000 [01:51<01:33, 122.07it/s]"
     ]
    },
    {
     "name": "stdout",
     "output_type": "stream",
     "text": [
      "Successfully initialized with render_mode=None\n",
      "Episode 18500, LR: 0.1661, Epsilon: 0.0100, Avg Reward: 7.64, Value Accuracy: 87.77%\n"
     ]
    },
    {
     "name": "stderr",
     "output_type": "stream",
     "text": [
      "Training:  63%|█████████████████████████████████████████▏                       | 19028/30000 [01:54<00:54, 202.02it/s]"
     ]
    },
    {
     "name": "stdout",
     "output_type": "stream",
     "text": [
      "Successfully initialized with render_mode=None\n",
      "Episode 19000, LR: 0.1652, Epsilon: 0.0100, Avg Reward: 7.48, Value Accuracy: 87.40%\n"
     ]
    },
    {
     "name": "stderr",
     "output_type": "stream",
     "text": [
      "Training:  65%|██████████████████████████████████████████▎                      | 19508/30000 [01:56<00:55, 190.10it/s]"
     ]
    },
    {
     "name": "stdout",
     "output_type": "stream",
     "text": [
      "Successfully initialized with render_mode=None\n",
      "Episode 19500, LR: 0.1644, Epsilon: 0.0100, Avg Reward: 7.31, Value Accuracy: 87.53%\n"
     ]
    },
    {
     "name": "stderr",
     "output_type": "stream",
     "text": [
      "Training:  67%|███████████████████████████████████████████▎                     | 20003/30000 [01:59<00:51, 195.29it/s]"
     ]
    },
    {
     "name": "stdout",
     "output_type": "stream",
     "text": [
      "Successfully initialized with render_mode=None\n",
      "Episode 20000, LR: 0.1636, Epsilon: 0.0100, Avg Reward: 7.77, Value Accuracy: 87.71%\n"
     ]
    },
    {
     "name": "stderr",
     "output_type": "stream",
     "text": [
      "Training:  68%|████████████████████████████████████████████▍                    | 20534/30000 [02:02<00:48, 195.39it/s]"
     ]
    },
    {
     "name": "stdout",
     "output_type": "stream",
     "text": [
      "Successfully initialized with render_mode=None\n",
      "Episode 20500, LR: 0.1628, Epsilon: 0.0100, Avg Reward: 7.62, Value Accuracy: 87.85%\n"
     ]
    },
    {
     "name": "stderr",
     "output_type": "stream",
     "text": [
      "Training:  70%|█████████████████████████████████████████████▌                   | 21021/30000 [02:04<00:49, 182.91it/s]"
     ]
    },
    {
     "name": "stdout",
     "output_type": "stream",
     "text": [
      "Successfully initialized with render_mode=None\n",
      "Episode 21000, LR: 0.1619, Epsilon: 0.0100, Avg Reward: 7.49, Value Accuracy: 87.47%\n"
     ]
    },
    {
     "name": "stderr",
     "output_type": "stream",
     "text": [
      "Training:  72%|██████████████████████████████████████████████▋                  | 21520/30000 [02:06<00:44, 192.41it/s]"
     ]
    },
    {
     "name": "stdout",
     "output_type": "stream",
     "text": [
      "Successfully initialized with render_mode=None\n",
      "Episode 21500, LR: 0.1611, Epsilon: 0.0100, Avg Reward: 7.43, Value Accuracy: 87.85%\n"
     ]
    },
    {
     "name": "stderr",
     "output_type": "stream",
     "text": [
      "Training:  73%|███████████████████████████████████████████████▋                 | 22025/30000 [02:09<00:40, 197.12it/s]"
     ]
    },
    {
     "name": "stdout",
     "output_type": "stream",
     "text": [
      "Successfully initialized with render_mode=None\n",
      "Episode 22000, LR: 0.1603, Epsilon: 0.0100, Avg Reward: 7.44, Value Accuracy: 88.02%\n"
     ]
    },
    {
     "name": "stderr",
     "output_type": "stream",
     "text": [
      "Training:  75%|████████████████████████████████████████████████▊                | 22514/30000 [02:11<00:36, 203.41it/s]"
     ]
    },
    {
     "name": "stdout",
     "output_type": "stream",
     "text": [
      "Successfully initialized with render_mode=None\n",
      "Episode 22500, LR: 0.1595, Epsilon: 0.0100, Avg Reward: 7.55, Value Accuracy: 87.67%\n"
     ]
    },
    {
     "name": "stderr",
     "output_type": "stream",
     "text": [
      "Training:  77%|█████████████████████████████████████████████████▉               | 23028/30000 [02:13<00:35, 198.70it/s]"
     ]
    },
    {
     "name": "stdout",
     "output_type": "stream",
     "text": [
      "Successfully initialized with render_mode=None\n",
      "Episode 23000, LR: 0.1587, Epsilon: 0.0100, Avg Reward: 7.56, Value Accuracy: 87.66%\n"
     ]
    },
    {
     "name": "stderr",
     "output_type": "stream",
     "text": [
      "Training:  78%|██████████████████████████████████████████████████▉              | 23522/30000 [02:16<00:32, 196.38it/s]"
     ]
    },
    {
     "name": "stdout",
     "output_type": "stream",
     "text": [
      "Successfully initialized with render_mode=None\n",
      "Episode 23500, LR: 0.1579, Epsilon: 0.0100, Avg Reward: 7.57, Value Accuracy: 87.88%\n"
     ]
    },
    {
     "name": "stderr",
     "output_type": "stream",
     "text": [
      "Training:  80%|████████████████████████████████████████████████████             | 24023/30000 [02:18<00:28, 213.04it/s]"
     ]
    },
    {
     "name": "stdout",
     "output_type": "stream",
     "text": [
      "Successfully initialized with render_mode=None\n",
      "Episode 24000, LR: 0.1571, Epsilon: 0.0100, Avg Reward: 7.44, Value Accuracy: 87.42%\n"
     ]
    },
    {
     "name": "stderr",
     "output_type": "stream",
     "text": [
      "Training:  82%|█████████████████████████████████████████████████████▏           | 24526/30000 [02:20<00:24, 220.34it/s]"
     ]
    },
    {
     "name": "stdout",
     "output_type": "stream",
     "text": [
      "Successfully initialized with render_mode=None\n",
      "Episode 24500, LR: 0.1563, Epsilon: 0.0100, Avg Reward: 7.77, Value Accuracy: 87.90%\n"
     ]
    },
    {
     "name": "stderr",
     "output_type": "stream",
     "text": [
      "Training:  83%|██████████████████████████████████████████████████████▏          | 25000/30000 [02:22<00:28, 177.28it/s]"
     ]
    },
    {
     "name": "stdout",
     "output_type": "stream",
     "text": [
      "Successfully initialized with render_mode=None\n",
      "Episode 25000, LR: 0.1556, Epsilon: 0.0100, Avg Reward: 7.56, Value Accuracy: 87.79%\n"
     ]
    },
    {
     "name": "stderr",
     "output_type": "stream",
     "text": [
      "Training:  85%|███████████████████████████████████████████████████████▎         | 25526/30000 [02:25<00:22, 200.73it/s]"
     ]
    },
    {
     "name": "stdout",
     "output_type": "stream",
     "text": [
      "Successfully initialized with render_mode=None\n",
      "Episode 25500, LR: 0.1548, Epsilon: 0.0100, Avg Reward: 7.75, Value Accuracy: 87.47%\n"
     ]
    },
    {
     "name": "stderr",
     "output_type": "stream",
     "text": [
      "Training:  87%|████████████████████████████████████████████████████████▎        | 26011/30000 [02:27<00:22, 180.99it/s]"
     ]
    },
    {
     "name": "stdout",
     "output_type": "stream",
     "text": [
      "Successfully initialized with render_mode=None\n",
      "Episode 26000, LR: 0.1540, Epsilon: 0.0100, Avg Reward: 7.53, Value Accuracy: 87.65%\n"
     ]
    },
    {
     "name": "stderr",
     "output_type": "stream",
     "text": [
      "Training:  88%|█████████████████████████████████████████████████████████▍       | 26520/30000 [02:30<00:19, 183.12it/s]"
     ]
    },
    {
     "name": "stdout",
     "output_type": "stream",
     "text": [
      "Successfully initialized with render_mode=None\n",
      "Episode 26500, LR: 0.1532, Epsilon: 0.0100, Avg Reward: 7.40, Value Accuracy: 87.60%\n"
     ]
    },
    {
     "name": "stderr",
     "output_type": "stream",
     "text": [
      "Training:  90%|██████████████████████████████████████████████████████████▌      | 27032/30000 [02:32<00:14, 211.34it/s]"
     ]
    },
    {
     "name": "stdout",
     "output_type": "stream",
     "text": [
      "Successfully initialized with render_mode=None\n",
      "Episode 27000, LR: 0.1525, Epsilon: 0.0100, Avg Reward: 7.63, Value Accuracy: 87.73%\n"
     ]
    },
    {
     "name": "stderr",
     "output_type": "stream",
     "text": [
      "Training:  92%|███████████████████████████████████████████████████████████▌     | 27514/30000 [02:34<00:11, 209.07it/s]"
     ]
    },
    {
     "name": "stdout",
     "output_type": "stream",
     "text": [
      "Successfully initialized with render_mode=None\n",
      "Episode 27500, LR: 0.1517, Epsilon: 0.0100, Avg Reward: 7.63, Value Accuracy: 87.62%\n"
     ]
    },
    {
     "name": "stderr",
     "output_type": "stream",
     "text": [
      "Training:  93%|████████████████████████████████████████████████████████████▋    | 28013/30000 [02:36<00:09, 206.67it/s]"
     ]
    },
    {
     "name": "stdout",
     "output_type": "stream",
     "text": [
      "Successfully initialized with render_mode=None\n",
      "Episode 28000, LR: 0.1509, Epsilon: 0.0100, Avg Reward: 7.67, Value Accuracy: 87.44%\n"
     ]
    },
    {
     "name": "stderr",
     "output_type": "stream",
     "text": [
      "Training:  95%|█████████████████████████████████████████████████████████████▊   | 28515/30000 [02:39<00:07, 187.96it/s]"
     ]
    },
    {
     "name": "stdout",
     "output_type": "stream",
     "text": [
      "Successfully initialized with render_mode=None\n",
      "Episode 28500, LR: 0.1502, Epsilon: 0.0100, Avg Reward: 7.34, Value Accuracy: 87.37%\n"
     ]
    },
    {
     "name": "stderr",
     "output_type": "stream",
     "text": [
      "Training:  97%|██████████████████████████████████████████████████████████████▊  | 29014/30000 [02:41<00:04, 204.45it/s]"
     ]
    },
    {
     "name": "stdout",
     "output_type": "stream",
     "text": [
      "Successfully initialized with render_mode=None\n",
      "Episode 29000, LR: 0.1494, Epsilon: 0.0100, Avg Reward: 7.52, Value Accuracy: 87.65%\n"
     ]
    },
    {
     "name": "stderr",
     "output_type": "stream",
     "text": [
      "Training:  98%|███████████████████████████████████████████████████████████████▉ | 29517/30000 [02:43<00:02, 200.66it/s]"
     ]
    },
    {
     "name": "stdout",
     "output_type": "stream",
     "text": [
      "Successfully initialized with render_mode=None\n",
      "Episode 29500, LR: 0.1487, Epsilon: 0.0100, Avg Reward: 7.66, Value Accuracy: 87.40%\n"
     ]
    },
    {
     "name": "stderr",
     "output_type": "stream",
     "text": [
      "Training: 100%|█████████████████████████████████████████████████████████████████| 30000/30000 [02:46<00:00, 180.52it/s]\n"
     ]
    },
    {
     "name": "stdout",
     "output_type": "stream",
     "text": [
      "Successfully initialized with render_mode=None\n",
      "Episode 30000, LR: 0.1479, Epsilon: 0.0100, Avg Reward: 7.36, Value Accuracy: 87.34%\n",
      "\n",
      "Best value accuracy achieved: 88.19%\n",
      "\n",
      "Visualizing trained agent...\n",
      "Successfully initialized with render_mode=human\n",
      "\n",
      "=== Episode 1 ===\n",
      "Initial State:\n",
      "Taxi at (3,0), Passenger at G, Dest: Y\n",
      "\n",
      "Step 0: Action=North\n",
      "New State: Taxi at (2,0), Passenger at G, Dest: Y\n",
      "Reward: -1, Total Reward: 0\n",
      "\n",
      "Step 1: Action=East\n",
      "New State: Taxi at (2,1), Passenger at G, Dest: Y\n",
      "Reward: -1, Total Reward: -1\n",
      "\n",
      "Step 2: Action=East\n",
      "New State: Taxi at (2,2), Passenger at G, Dest: Y\n",
      "Reward: -1, Total Reward: -2\n",
      "\n",
      "Step 3: Action=North\n",
      "New State: Taxi at (1,2), Passenger at G, Dest: Y\n",
      "Reward: -1, Total Reward: -3\n",
      "\n",
      "Step 4: Action=East\n",
      "New State: Taxi at (1,3), Passenger at G, Dest: Y\n",
      "Reward: -1, Total Reward: -4\n",
      "\n",
      "Step 5: Action=East\n",
      "New State: Taxi at (1,4), Passenger at G, Dest: Y\n",
      "Reward: -1, Total Reward: -5\n",
      "\n",
      "Step 6: Action=North\n",
      "New State: Taxi at (0,4), Passenger at G, Dest: Y\n",
      "Reward: -1, Total Reward: -6\n",
      "\n",
      "Step 7: Action=Pickup\n",
      "New State: Taxi at (0,4), Passenger at In Taxi, Dest: Y\n",
      "Reward: -1, Total Reward: -7\n",
      "\n",
      "Step 8: Action=South\n",
      "New State: Taxi at (1,4), Passenger at In Taxi, Dest: Y\n",
      "Reward: -1, Total Reward: -8\n",
      "\n",
      "Step 9: Action=West\n",
      "New State: Taxi at (1,3), Passenger at In Taxi, Dest: Y\n",
      "Reward: -1, Total Reward: -9\n",
      "\n",
      "Step 10: Action=South\n",
      "New State: Taxi at (2,3), Passenger at In Taxi, Dest: Y\n",
      "Reward: -1, Total Reward: -10\n",
      "\n",
      "Step 11: Action=West\n",
      "New State: Taxi at (2,2), Passenger at In Taxi, Dest: Y\n",
      "Reward: -1, Total Reward: -11\n",
      "\n",
      "Step 12: Action=West\n",
      "New State: Taxi at (2,1), Passenger at In Taxi, Dest: Y\n",
      "Reward: -1, Total Reward: -12\n",
      "\n",
      "Step 13: Action=West\n",
      "New State: Taxi at (2,0), Passenger at In Taxi, Dest: Y\n",
      "Reward: -1, Total Reward: -13\n",
      "\n",
      "Step 14: Action=South\n",
      "New State: Taxi at (3,0), Passenger at In Taxi, Dest: Y\n",
      "Reward: -1, Total Reward: -14\n",
      "\n",
      "Step 15: Action=South\n",
      "New State: Taxi at (4,0), Passenger at In Taxi, Dest: Y\n",
      "Reward: -1, Total Reward: -15\n",
      "\n",
      "Step 16: Action=Dropoff\n",
      "New State: Taxi at (4,0), Passenger at Y, Dest: Y\n",
      "Reward: 20, Total Reward: -16\n",
      "\n",
      "Episode finished after 17 steps, Total reward: 4\n",
      "SUCCESS: Passenger delivered!\n",
      "\n",
      "=== Episode 2 ===\n",
      "Initial State:\n",
      "Taxi at (3,1), Passenger at R, Dest: G\n",
      "\n",
      "Step 0: Action=East\n",
      "New State: Taxi at (3,2), Passenger at R, Dest: G\n",
      "Reward: -1, Total Reward: 0\n",
      "\n",
      "Step 1: Action=North\n",
      "New State: Taxi at (2,2), Passenger at R, Dest: G\n",
      "Reward: -1, Total Reward: -1\n",
      "\n",
      "Step 2: Action=West\n",
      "New State: Taxi at (2,1), Passenger at R, Dest: G\n",
      "Reward: -1, Total Reward: -2\n",
      "\n",
      "Step 3: Action=West\n",
      "New State: Taxi at (2,0), Passenger at R, Dest: G\n",
      "Reward: -1, Total Reward: -3\n",
      "\n",
      "Step 4: Action=North\n",
      "New State: Taxi at (1,0), Passenger at R, Dest: G\n",
      "Reward: -1, Total Reward: -4\n",
      "\n",
      "Step 5: Action=North\n",
      "New State: Taxi at (0,0), Passenger at R, Dest: G\n",
      "Reward: -1, Total Reward: -5\n",
      "\n",
      "Step 6: Action=Pickup\n",
      "New State: Taxi at (0,0), Passenger at In Taxi, Dest: G\n",
      "Reward: -1, Total Reward: -6\n",
      "\n",
      "Step 7: Action=East\n",
      "New State: Taxi at (0,1), Passenger at In Taxi, Dest: G\n",
      "Reward: -1, Total Reward: -7\n",
      "\n",
      "Step 8: Action=South\n",
      "New State: Taxi at (1,1), Passenger at In Taxi, Dest: G\n",
      "Reward: -1, Total Reward: -8\n",
      "\n",
      "Step 9: Action=South\n",
      "New State: Taxi at (2,1), Passenger at In Taxi, Dest: G\n",
      "Reward: -1, Total Reward: -9\n",
      "\n",
      "Step 10: Action=East\n",
      "New State: Taxi at (2,2), Passenger at In Taxi, Dest: G\n",
      "Reward: -1, Total Reward: -10\n",
      "\n",
      "Step 11: Action=North\n",
      "New State: Taxi at (1,2), Passenger at In Taxi, Dest: G\n",
      "Reward: -1, Total Reward: -11\n",
      "\n",
      "Step 12: Action=East\n",
      "New State: Taxi at (1,3), Passenger at In Taxi, Dest: G\n",
      "Reward: -1, Total Reward: -12\n",
      "\n",
      "Step 13: Action=East\n",
      "New State: Taxi at (1,4), Passenger at In Taxi, Dest: G\n",
      "Reward: -1, Total Reward: -13\n",
      "\n",
      "Step 14: Action=North\n",
      "New State: Taxi at (0,4), Passenger at In Taxi, Dest: G\n",
      "Reward: -1, Total Reward: -14\n",
      "\n",
      "Step 15: Action=Dropoff\n",
      "New State: Taxi at (0,4), Passenger at G, Dest: G\n",
      "Reward: 20, Total Reward: -15\n",
      "\n",
      "Episode finished after 16 steps, Total reward: 5\n",
      "SUCCESS: Passenger delivered!\n",
      "\n",
      "=== Episode 3 ===\n",
      "Initial State:\n",
      "Taxi at (3,0), Passenger at R, Dest: B\n",
      "\n",
      "Step 0: Action=North\n",
      "New State: Taxi at (2,0), Passenger at R, Dest: B\n",
      "Reward: -1, Total Reward: 0\n",
      "\n",
      "Step 1: Action=North\n",
      "New State: Taxi at (1,0), Passenger at R, Dest: B\n",
      "Reward: -1, Total Reward: -1\n",
      "\n",
      "Step 2: Action=North\n",
      "New State: Taxi at (0,0), Passenger at R, Dest: B\n",
      "Reward: -1, Total Reward: -2\n",
      "\n",
      "Step 3: Action=Pickup\n",
      "New State: Taxi at (0,0), Passenger at In Taxi, Dest: B\n",
      "Reward: -1, Total Reward: -3\n",
      "\n",
      "Step 4: Action=East\n",
      "New State: Taxi at (0,1), Passenger at In Taxi, Dest: B\n",
      "Reward: -1, Total Reward: -4\n",
      "\n",
      "Step 5: Action=South\n",
      "New State: Taxi at (1,1), Passenger at In Taxi, Dest: B\n",
      "Reward: -1, Total Reward: -5\n",
      "\n",
      "Step 6: Action=South\n",
      "New State: Taxi at (2,1), Passenger at In Taxi, Dest: B\n",
      "Reward: -1, Total Reward: -6\n",
      "\n",
      "Step 7: Action=East\n",
      "New State: Taxi at (2,2), Passenger at In Taxi, Dest: B\n",
      "Reward: -1, Total Reward: -7\n",
      "\n",
      "Step 8: Action=East\n",
      "New State: Taxi at (2,3), Passenger at In Taxi, Dest: B\n",
      "Reward: -1, Total Reward: -8\n",
      "\n",
      "Step 9: Action=South\n",
      "New State: Taxi at (3,3), Passenger at In Taxi, Dest: B\n",
      "Reward: -1, Total Reward: -9\n",
      "\n",
      "Step 10: Action=South\n",
      "New State: Taxi at (4,3), Passenger at In Taxi, Dest: B\n",
      "Reward: -1, Total Reward: -10\n",
      "\n",
      "Step 11: Action=Dropoff\n",
      "New State: Taxi at (4,3), Passenger at B, Dest: B\n",
      "Reward: 20, Total Reward: -11\n",
      "\n",
      "Episode finished after 12 steps, Total reward: 9\n",
      "SUCCESS: Passenger delivered!\n"
     ]
    },
    {
     "data": {
      "image/png": "[encoded data removed]",
      "text/plain": [
       "<Figure size 1500x1200 with 3 Axes>"
      ]
     },
     "metadata": {},
     "output_type": "display_data"
    },
    {
     "name": "stdout",
     "output_type": "stream",
     "text": [
      "\n",
      "Q-table saved to 'enhanced_taxi_double_q.npy'\n"
     ]
    }
   ],
   "source": [
    "if __name__ == '__main__':\n",
    "    try:\n",
    "        main()\n",
    "    except KeyboardInterrupt:\n",
    "        print(\"\\nTraining interrupted by user\")\n",
    "    finally:\n",
    "        pygame.quit()"
   ]
  },
  {
   "cell_type": "code",
   "execution_count": null,
   "id": "219289ac-3930-4c92-b789-c28ee24c039a",
   "metadata": {},
   "outputs": [],
   "source": []
  }
 ],
 "metadata": {
  "kernelspec": {
   "display_name": "Python 3 (ipykernel)",
   "language": "python",
   "name": "python3"
  },
  "language_info": {
   "codemirror_mode": {
    "name": "ipython",
    "version": 3
   },
   "file_extension": ".py",
   "mimetype": "text/x-python",
   "name": "python",
   "nbconvert_exporter": "python",
   "pygments_lexer": "ipython3",
   "version": "3.12.7"
  }
 },
 "nbformat": 4,
 "nbformat_minor": 5
}
